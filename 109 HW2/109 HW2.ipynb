{
 "cells": [
  {
   "cell_type": "markdown",
   "metadata": {
    "collapsed": true
   },
   "source": [
    "## 1  For each of the three data sets plotted above (I, II and III), answer the following:\n",
    "\n",
    "a. Does the data show a positive or negative correlation between x and y?\n",
    "        plot 1: no correlation between x and y, y value is random around 20 \n",
    "        plot 2:positive correlation\n",
    "        plot 3:negative correlation\n",
    "\n",
    "b. Which function (equation) best describes each data set? In these equations, ε represents\n",
    "random noise, with mean value εˉ = 0 and standard deviation σε = 1 .\n",
    "i. f(x) = 1 + 2x + ε\n",
    "ii. f(x) = 20 + ε\n",
    "iii. f(x) = 20 − x + ε\n",
    "\n",
    "    i describes plot 2\n",
    "    ii decribes plot 1\n",
    "    iii decribes plot 3\n",
    "\n",
    "c. Which regression table corresponds to each plot?\n",
    "\n",
    "    i matches plot 2 \n",
    "    ii matches plot 3\n",
    "    ii match plot 1"
   ]
  },
  {
   "cell_type": "markdown",
   "metadata": {},
   "source": [
    "## 2. ISLR chapter 3, problem 3 (page 120)\n",
    "Y = 50 + 20(gpa) + 0.07(iq) + 35(gender) + 0.01(gpa * iq) - 10 (gpa * gender)\n",
    "\n",
    "        a. iii is true\n",
    "           Because 35*gender - 10 * gpa * gender are the only factor that is related to gender that can influence the salary.\n",
    "           Given a high gpa over 3.5., (35*gender - 10 * gpa * gender) is larger than 0.\n",
    "           So For a fixed value of IQ and GPA, males earn more on average than females provided that the GPA is high enough.\n",
    "        \n",
    "        b.Predict the salary of a female with IQ of 110 and a GPA of 4.0.         \n",
    "        = 50 + 20(4) + 0.07(110) + 35(1) + 0.01(4 * 110) - 10 (4 * 1) \n",
    "        = 137.1\n",
    "\n",
    "        c. False. we still need to consider the p-value of the regression coefficient."
   ]
  },
  {
   "cell_type": "markdown",
   "metadata": {},
   "source": [
    "\n",
    "## 3. ISLR chapter 3, problem 4 (pages 120-121)\n",
    "\n",
    "    a.  Since we know that the relationship between X and Y is linear, we can asusume the least sqaure line is a good regression model.\n",
    "        Therefore, the training RSS for the linear regression should be lower than the one for the cubic regression.\n",
    "        \n",
    "    b. If there is overfitting in training, then the test RRS should be higher due to the divergence of matching.\n",
    "    So in testing,the test RRS of cubic regression should be higher than the test RRS of the linear regression.\n",
    "    \n",
    "    c. Cubic regression has lower train RSS than the linear regression because a more complex model should reduce the train RRS.\n",
    "    \n",
    "    d. In this case, the info is not enough to predic which test RSS would be lower because we do not know how far it is from linear. \n",
    "  "
   ]
  },
  {
   "cell_type": "markdown",
   "metadata": {},
   "source": [
    "# 4. In this problem, we will simulate a dataset and use multiple linear regression to investigate it. \n",
    "\n",
    "Imagine we conduct a survey of N=100 students and ask them how much time per week they spend on work (\n",
    ") and how much time on play ( ). We also ask them about their overall level x1 x2 of satisfaction ( y ),\n",
    "which we take to be the outcome. Download the dataset HW2.csv from the course website, which\n",
    "contains these data."
   ]
  },
  {
   "cell_type": "code",
   "execution_count": 98,
   "metadata": {},
   "outputs": [
    {
     "name": "stdout",
     "output_type": "stream",
     "text": [
      "(100, 3)\n"
     ]
    }
   ],
   "source": [
    "import urllib\n",
    "import matplotlib.pyplot as plt\n",
    "import pandas as pd\n",
    "import numpy as np\n",
    "\n",
    "#read data\n",
    "broken_df = pd.read_csv('/Users/xuzhaokai/Desktop/109 HW2/HW2.csv')\n",
    "dataFrame = broken_df.values\n",
    "print dataFrame.shape"
   ]
  },
  {
   "cell_type": "code",
   "execution_count": 99,
   "metadata": {},
   "outputs": [
    {
     "data": {
      "image/png": "[encoded data removed]",
      "text/plain": [
       "<matplotlib.figure.Figure at 0x1c18cc03d0>"
      ]
     },
     "metadata": {},
     "output_type": "display_data"
    },
    {
     "name": "stdout",
     "output_type": "stream",
     "text": [
      "the relationship between x1 and y :\n",
      "x1 and y are positively correlated and they are in non-linear relationship\n"
     ]
    }
   ],
   "source": [
    "# 4. a Make a scatter plot showing y vs. x1 . \n",
    "# Comment on the relationship between these variables: \n",
    "# dothey appear correlated (positively or negatively)? \n",
    "# Is their relationship linear or non-linear?\n",
    "\n",
    "import matplotlib.pyplot as plt\n",
    "x1 = dataFrame[:,0]\n",
    "x2 = dataFrame[:,1]\n",
    "y = dataFrame[:,2]\n",
    "\n",
    "plt.plot(x1, y, 'ro')\n",
    "plt.xlabel(\"x1: time per week spend on work  \")\n",
    "plt.ylabel(\"y: overal level of satisfaction \")\n",
    "plt.title (\" work VS satisfaction \")\n",
    "plt.show()\n",
    "\n",
    "print (\"the relationship between x1 and y :\")\n",
    "print (\"x1 and y are positively correlated and they are in non-linear relationship\") "
   ]
  },
  {
   "cell_type": "code",
   "execution_count": 100,
   "metadata": {},
   "outputs": [
    {
     "name": "stdout",
     "output_type": "stream",
     "text": [
      "slope:  0.07105\n",
      "intercept:  0.06039\n"
     ]
    }
   ],
   "source": [
    "#4. b  Fit a simple linear regression of y vs. x1\n",
    "# Report the estimated intercept and slope, and make a plot showing \n",
    "# the data points together with the regression line. \n",
    "# Is there a statistically significant effect of x1 on y ?\n",
    "\n",
    "# sm is better for sklearn to analyze data \n",
    "from sklearn import linear_model\n",
    "\n",
    "reg = linear_model.LinearRegression()\n",
    "\n",
    "# array to matrix \n",
    "x1= x1.reshape(-1, 1)\n",
    "y = y.reshape(-1,1)\n",
    "\n",
    "# train the model\n",
    "reg.fit (x1, y)\n",
    "\n",
    "#obtain slope and intercept\n",
    "slope = reg.coef_[0][0]\n",
    "intercept = reg.intercept_\n",
    "\n",
    "print \"slope: \",round(slope, 5) \n",
    "print \"intercept: \",round(intercept, 5) "
   ]
  },
  {
   "cell_type": "code",
   "execution_count": 101,
   "metadata": {},
   "outputs": [
    {
     "data": {
      "image/png": "[encoded data removed]",
      "text/plain": [
       "<matplotlib.figure.Figure at 0x1c18ddc790>"
      ]
     },
     "metadata": {},
     "output_type": "display_data"
    }
   ],
   "source": [
    "# plot the data \n",
    "plt.xlabel(\"x1: time per week spend on work  \")\n",
    "plt.ylabel(\"y: overal level of satisfaction \")\n",
    "plt.title (\" work VS satisfaction \")\n",
    "plt.plot(x1, y, '.')\n",
    "plt.plot(x1, slope * x1 + intercept, '-')\n",
    "plt.text(5,4,\"y = 0.07105 * x1 + 0.06039\")\n",
    "plt.show()"
   ]
  },
  {
   "cell_type": "code",
   "execution_count": 102,
   "metadata": {},
   "outputs": [
    {
     "name": "stdout",
     "output_type": "stream",
     "text": [
      "I do not thnk their is a statistically significant effect of x1 on y because the p value is zero accourding to the below table, which means the null hypothesis is rejected\n"
     ]
    }
   ],
   "source": [
    "#4 b Is there a statistically significant effect of x1 on y ?\n",
    "print \"I do not thnk their is a statistically significant effect of x1 on y because \\\n",
    "the p value is zero accourding to the below table, which means the null hypothesis is rejected\""
   ]
  },
  {
   "cell_type": "code",
   "execution_count": 103,
   "metadata": {},
   "outputs": [
    {
     "name": "stdout",
     "output_type": "stream",
     "text": [
      "                            OLS Regression Results                            \n",
      "==============================================================================\n",
      "Dep. Variable:                      y   R-squared:                       0.263\n",
      "Model:                            OLS   Adj. R-squared:                  0.255\n",
      "Method:                 Least Squares   F-statistic:                     34.90\n",
      "Date:                Thu, 11 Oct 2018   Prob (F-statistic):           5.04e-08\n",
      "Time:                        23:07:03   Log-Likelihood:                -176.08\n",
      "No. Observations:                 100   AIC:                             356.2\n",
      "Df Residuals:                      98   BIC:                             361.4\n",
      "Df Model:                           1                                         \n",
      "Covariance Type:            nonrobust                                         \n",
      "==============================================================================\n",
      "                 coef    std err          t      P>|t|      [0.025      0.975]\n",
      "------------------------------------------------------------------------------\n",
      "const          0.0604      0.291      0.207      0.836      -0.517       0.638\n",
      "x1             0.0711      0.012      5.907      0.000       0.047       0.095\n",
      "==============================================================================\n",
      "Omnibus:                        1.420   Durbin-Watson:                   2.256\n",
      "Prob(Omnibus):                  0.492   Jarque-Bera (JB):                0.913\n",
      "Skew:                          -0.025   Prob(JB):                        0.634\n",
      "Kurtosis:                       3.465   Cond. No.                         49.6\n",
      "==============================================================================\n",
      "\n",
      "Warnings:\n",
      "[1] Standard Errors assume that the covariance matrix of the errors is correctly specified.\n"
     ]
    }
   ],
   "source": [
    "# 4.c \n",
    "import numpy as np\n",
    "import statsmodels.api as sm\n",
    "\n",
    "X_1=sm.add_constant(x1)\n",
    "model = sm.OLS(y,X_1)\n",
    "results = model.fit()\n",
    "print results.summary()"
   ]
  },
  {
   "cell_type": "code",
   "execution_count": 104,
   "metadata": {},
   "outputs": [
    {
     "name": "stdout",
     "output_type": "stream",
     "text": [
      "\n",
      " the confidence interval for the slope of x1 is [[-0.51732074  0.63810476]\n",
      " [ 0.0471836   0.09492252]]\n"
     ]
    }
   ],
   "source": [
    "# 4.c What is the 95% confidence interval for the slope of x1 ?\n",
    "print \"\\n the confidence interval for the slope of x1 is\",results.conf_int(alpha=0.05) "
   ]
  },
  {
   "cell_type": "code",
   "execution_count": 105,
   "metadata": {},
   "outputs": [
    {
     "name": "stdout",
     "output_type": "stream",
     "text": [
      "                            OLS Regression Results                            \n",
      "==============================================================================\n",
      "Dep. Variable:                      y   R-squared:                       0.000\n",
      "Model:                            OLS   Adj. R-squared:                 -0.020\n",
      "Method:                 Least Squares   F-statistic:                   0.01086\n",
      "Date:                Thu, 11 Oct 2018   Prob (F-statistic):              0.989\n",
      "Time:                        23:07:08   Log-Likelihood:                -191.30\n",
      "No. Observations:                 100   AIC:                             388.6\n",
      "Df Residuals:                      97   BIC:                             396.4\n",
      "Df Model:                           2                                         \n",
      "Covariance Type:            nonrobust                                         \n",
      "==============================================================================\n",
      "                 coef    std err          t      P>|t|      [0.025      0.975]\n",
      "------------------------------------------------------------------------------\n",
      "const          1.6114      0.432      3.726      0.000       0.753       2.470\n",
      "x1            -0.0006      0.015     -0.044      0.965      -0.030       0.029\n",
      "x2            -0.0019      0.014     -0.140      0.889      -0.029       0.025\n",
      "==============================================================================\n",
      "Omnibus:                        5.551   Durbin-Watson:                   1.993\n",
      "Prob(Omnibus):                  0.062   Jarque-Bera (JB):                5.045\n",
      "Skew:                           0.432   Prob(JB):                       0.0803\n",
      "Kurtosis:                       3.682   Cond. No.                         79.4\n",
      "==============================================================================\n",
      "\n",
      "Warnings:\n",
      "[1] Standard Errors assume that the covariance matrix of the errors is correctly specified.\n"
     ]
    }
   ],
   "source": [
    "# 4. d\n",
    "# fit a multiple linear regression with x1 and x2 as independent variables.\n",
    "#Report a table with the regression results (similar to Table 3.9 on page 88 in ISLR). \n",
    "\n",
    "# THE table contains: coefficent /  std error  //  t-statistic    /  p-value  \n",
    "from sklearn import linear_model\n",
    "import numpy as np\n",
    "import statsmodels.api as sm\n",
    "\n",
    "#stack x1 and x2 to a 2D matrix \n",
    "x2 = x2.reshape(-1,1)\n",
    "xData = np.vstack((x1,x2))\n",
    "xData = xData.reshape(-1,2)\n",
    "X_1=sm.add_constant(xData)\n",
    "\n",
    "# train the model\n",
    "model2 = sm.OLS(y,X_1)\n",
    "results2 = model2.fit()\n",
    "print results2.summary()"
   ]
  },
  {
   "cell_type": "code",
   "execution_count": 106,
   "metadata": {
    "scrolled": true
   },
   "outputs": [
    {
     "name": "stdout",
     "output_type": "stream",
     "text": [
      "x2 has a more statistically significant effect\n"
     ]
    }
   ],
   "source": [
    "# Which parameters have a statistically significant effect?\n",
    "print \"x2 has a more statistically significant effect\""
   ]
  },
  {
   "cell_type": "code",
   "execution_count": 107,
   "metadata": {},
   "outputs": [
    {
     "data": {
      "image/png": "[encoded data removed]",
      "text/plain": [
       "<matplotlib.figure.Figure at 0x1c189fe850>"
      ]
     },
     "metadata": {},
     "output_type": "display_data"
    }
   ],
   "source": [
    "#  4. e Make a scatter plot showing y vs. yˆ, the predicted value of y\n",
    "from mpl_toolkits.mplot3d import Axes3D \n",
    "import matplotlib.pyplot as plt\n",
    "\n",
    "# plot all points \n",
    "fig = plt.figure()\n",
    "ax = fig.add_subplot(111, projection='3d')\n",
    "\n",
    "ax.set_title(' time on work(x1) AND time on play(x2)  VS  satisfaction(y)\\\n",
    " \\n yellow is predicted y, blue is true y')\n",
    "ax.set_xlabel('X1 ')\n",
    "ax.set_ylabel('X2 ')\n",
    "ax.set_zlabel('y ')\n",
    "#scatter plot showing y\n",
    "ax.scatter(x1, x2, y)\n",
    "#surface plot showing y\n",
    "y_predict = 1.6114 * X_1[:,0] +  (-0.0006) * X_1[:,1] + (-0.0019)* X_1[:,2]\n",
    "ax.scatter(x1, x2, y_predict) \n",
    "plt.show()\n"
   ]
  },
  {
   "cell_type": "code",
   "execution_count": 122,
   "metadata": {},
   "outputs": [],
   "source": [
    "# 4. f   Create a categorical variable with 3 levels called WorkType, \n",
    "# where WorkType=”Idle” for x1 < 10,\n",
    "# WorkType=”Diligent” for 10 ≤ x1 < 30 , \n",
    "# and WorkType=”Workaholic” for x1 ≥30 . \n",
    "# Fit a linear regression of y against WorkType and x2 , and report the regression table\n",
    "import numpy as np\n",
    "\n",
    "#break into three types \n",
    "# replace each type with two dimension\n",
    "# Idle == 0 0  Diligent = 0 1  Workaholic == 1 1\n",
    "Idle = []\n",
    "Diligent = []\n",
    "Workaholic = []\n",
    "newData = np.zeros((100,5))\n",
    "\n",
    "for row in range(dataFrame.shape[0]):\n",
    "    data = dataFrame[row,0]\n",
    "    if (data <10):\n",
    "        newData[row][0] = 1\n",
    "        newData[row][1] = 0\n",
    "        newData[row][2] = 0\n",
    "        newData[row][3] = dataFrame[row,1]\n",
    "        newData[row][4] = dataFrame[row,2]\n",
    "    elif data <=30 and data >=10:\n",
    "        newData[row][0] = 1\n",
    "        newData[row][1] = 0\n",
    "        newData[row][2] = 1\n",
    "        newData[row][3] = dataFrame[row,1]\n",
    "        newData[row][4] = dataFrame[row,2]\n",
    "    else:\n",
    "        newData[row][0] = 1\n",
    "        newData[row][1] = 1\n",
    "        newData[row][2] = 0\n",
    "        newData[row][3] = dataFrame[row,1]\n",
    "        newData[row][4] = dataFrame[row,2]"
   ]
  },
  {
   "cell_type": "code",
   "execution_count": 131,
   "metadata": {},
   "outputs": [
    {
     "name": "stdout",
     "output_type": "stream",
     "text": [
      "In the Table:x1 and x2 are either 0 or 1 where Idle == 0 0  Diligent = 0 1  Workaholic == 1 1 x3 represent x2 in prev which is how much time to play \n",
      "                            OLS Regression Results                            \n",
      "==============================================================================\n",
      "Dep. Variable:                      y   R-squared:                       0.588\n",
      "Model:                            OLS   Adj. R-squared:                  0.575\n",
      "Method:                 Least Squares   F-statistic:                     45.71\n",
      "Date:                Thu, 11 Oct 2018   Prob (F-statistic):           1.94e-18\n",
      "Time:                        23:19:01   Log-Likelihood:                -146.95\n",
      "No. Observations:                 100   AIC:                             301.9\n",
      "Df Residuals:                      96   BIC:                             312.3\n",
      "Df Model:                           3                                         \n",
      "Covariance Type:            nonrobust                                         \n",
      "==============================================================================\n",
      "                 coef    std err          t      P>|t|      [0.025      0.975]\n",
      "------------------------------------------------------------------------------\n",
      "const          2.5094      0.313      8.022      0.000       1.888       3.130\n",
      "x1             1.6302      0.302      5.402      0.000       1.031       2.229\n",
      "x2             0.2262      0.282      0.803      0.424      -0.333       0.785\n",
      "x3            -0.0842      0.009     -8.893      0.000      -0.103      -0.065\n",
      "==============================================================================\n",
      "Omnibus:                        1.628   Durbin-Watson:                   2.027\n",
      "Prob(Omnibus):                  0.443   Jarque-Bera (JB):                1.088\n",
      "Skew:                          -0.123   Prob(JB):                        0.580\n",
      "Kurtosis:                       3.447   Cond. No.                         93.8\n",
      "==============================================================================\n",
      "\n",
      "Warnings:\n",
      "[1] Standard Errors assume that the covariance matrix of the errors is correctly specified.\n"
     ]
    }
   ],
   "source": [
    "# train the model\n",
    "print \"In the Table:\\\n",
    "x1 and x2 are either 0 or 1 \\\n",
    "where Idle == 0 0  Diligent = 0 1  Workaholic == 1 1 \\\n",
    "x3 represent x2 in prev which is how much time to play \\\n",
    "\"\n",
    "model_1 = sm.OLS( newData[:,4], newData[:,0:4])\n",
    "result_1 = model_1.fit()\n",
    "print result_1.summary()"
   ]
  },
  {
   "cell_type": "code",
   "execution_count": 146,
   "metadata": {},
   "outputs": [
    {
     "name": "stdout",
     "output_type": "stream",
     "text": [
      "Type 1\n",
      "[ 1.49740182  0.00271597 -0.03983865]\n",
      "Type 2\n",
      "[ 1.72912567  0.04920683 -0.0816793 ]\n",
      "Type 3\n",
      "[ 1.63103149  0.0913222  -0.12248419]\n",
      "According to the above data, I think when workType == Workaholicthe time on work contributes more to their satisfaction and  the time on play has a negative effect on their satisfaction \n"
     ]
    }
   ],
   "source": [
    "# 4.g  different “levels” of this categorical variable. \n",
    "# What is your interpretation of the term corresponding to WorkType=Workaholic?\n",
    "print \"Type 1\"\n",
    "print result_1.params\n",
    "print \"Type 2\"\n",
    "print result_2.params\n",
    "print \"Type 3\"\n",
    "print result_3.params\n",
    "print \"According to the above data, I think when workType == Workaholic\\\n",
    "the time on work contributes more to their satisfaction and  \\\n",
    "the time on play has a negative effect on their satisfaction \""
   ]
  }
 ],
 "metadata": {
  "kernelspec": {
   "display_name": "Python 2",
   "language": "python",
   "name": "python2"
  },
  "language_info": {
   "codemirror_mode": {
    "name": "ipython",
    "version": 2
   },
   "file_extension": ".py",
   "mimetype": "text/x-python",
   "name": "python",
   "nbconvert_exporter": "python",
   "pygments_lexer": "ipython2",
   "version": "2.7.15"
  },
  "latex_envs": {
   "LaTeX_envs_menu_present": true,
   "autoclose": false,
   "autocomplete": true,
   "bibliofile": "biblio.bib",
   "cite_by": "apalike",
   "current_citInitial": 1,
   "eqLabelWithNumbers": true,
   "eqNumInitial": 1,
   "hotkeys": {
    "equation": "Ctrl-E",
    "itemize": "Ctrl-I"
   },
   "labels_anchors": false,
   "latex_user_defs": false,
   "report_style_numbering": false,
   "user_envs_cfg": false
  },
  "varInspector": {
   "cols": {
    "lenName": 16,
    "lenType": 16,
    "lenVar": 40
   },
   "kernels_config": {
    "python": {
     "delete_cmd_postfix": "",
     "delete_cmd_prefix": "del ",
     "library": "var_list.py",
     "varRefreshCmd": "print(var_dic_list())"
    },
    "r": {
     "delete_cmd_postfix": ") ",
     "delete_cmd_prefix": "rm(",
     "library": "var_list.r",
     "varRefreshCmd": "cat(var_dic_list()) "
    }
   },
   "types_to_exclude": [
    "module",
    "function",
    "builtin_function_or_method",
    "instance",
    "_Feature"
   ],
   "window_display": false
  }
 },
 "nbformat": 4,
 "nbformat_minor": 2
}
