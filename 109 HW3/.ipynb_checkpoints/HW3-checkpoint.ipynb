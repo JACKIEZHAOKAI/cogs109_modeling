{
 "cells": [
  {
   "cell_type": "markdown",
   "metadata": {},
   "source": [
    "### 1. ISLR chapter 4, exercise 4 (page 168-169)\n",
    "### a)\n",
    "if .05 < x <.95, we will have an interval[x.0.05,x+0.95], and a constant lenght of 0.1  \n",
    "if x<.05. we will observe the interval [0,x+0.05], and a changing lenght of (x+.05)\n",
    "\n",
    "\n",
    "Also, if x>.95, we will observe the interval [x-.05, 1.0],and a changing lenght of (1.05-x)\n",
    "\n",
    "Therefore, to compute the average fraction,we do intergal,\n",
    "we manipulate 100 for easiler computation of %\n",
    "\n",
    ".9*0.1 + ∫0 to .05 (x+.05)dx+∫0.95 to 1 (1.05-x)dx ==  9.75%\n",
    "\n",
    "So,on average, the fraction of available observations we will use to make the prediction is 9.75%.\n",
    "\n",
    "### b)\n",
    "Assumee X1 and X2 are independant var, then the fraction of available observations \n",
    "\n",
    "we will use to make the prediction is  9.75%×9.75%=0.950625%.\n",
    "\n",
    "\n",
    "### c)\n",
    "Known from a and b, the fraction of available observations we will use to make the prediction is 9.75 ^ 100 is closed to 0%.\n",
    "\n",
    "### d)\n",
    "From a to c, we know that when p is a large value, (9.75%)^p is getting very closed to 0.\n",
    "\n",
    "So formattly, we define when p→∞, we have\n",
    "limp→∞(9.75%)p=0.\n",
    "\n",
    "### e)\n",
    "p=1, we have length=0.1\n",
    "\n",
    "p=2, we have length=0.11/2 \n",
    "\n",
    "p=100, we have length=0.11/100.\n"
   ]
  },
  {
   "cell_type": "markdown",
   "metadata": {
    "ExecuteTime": {
     "end_time": "2018-10-19T05:02:14.048679Z",
     "start_time": "2018-10-19T05:02:14.037988Z"
    }
   },
   "source": [
    "### 2. ISLR chapter 4, exercise 6\n",
    "a)\n",
    "\n",
    "p̂ (X)= e ^(−6+0.05X1+X2) / (1 + e ^ (−6+0.05X1+X2) ) = 0.3775.\n",
    "\n",
    "so the prob for a student who studies for 40 hours and has an undergrad GPA of 3.5 gets an A in the class is 0.3775\n",
    "\n",
    "b)\n",
    "So we set p̂ (X) to be 0.5\n",
    "\n",
    "e ^ (−6+0.05X1+3.5) / (1 + e ^ (−6+0.05X1+X2) ) = 0.5,\n",
    "\n",
    "So, e−6+0.05X1+3.5=1.\n",
    "\n",
    "Therefore, we get X1=50"
   ]
  },
  {
   "cell_type": "markdown",
   "metadata": {},
   "source": [
    "### 3. ISLR chapter 4, exercise 7\n",
    "\n",
    "when X = 4, by plugging value into the equation, we have\n",
    "\n",
    "p1(4)=  0.8e−(1/72)(4−10)20.8e−(1/72)(4−10)2+0.2e−(1/72)(4−0)2=0.752;\n",
    "\n",
    "so the probability that a company will issue a dividend this year given that its percentage return was X=4 last year is 0.752.\n"
   ]
  },
  {
   "cell_type": "markdown",
   "metadata": {},
   "source": [
    "### 4 coding part\n",
    "Most neurons in the brain develop before you are born and remain with you throughout your life. A\n",
    "small but important part of the brain called the dentate gyrus of the hippocampus continues to create\n",
    "new neurons past birth and into adulthood. These “adult newborn neurons” are thought to be important\n",
    "for creating distinct memories of similar events. In this problem, we will use a recently published data\n",
    "set containing gene expression measurements from single neurons to classify cells by their age. The\n",
    "study by Habib et al. is titled “ Div-Seq: Single-nucleus RNA-Seq reveals dynamics of rare adult\n",
    "newborn neurons ”"
   ]
  },
  {
   "cell_type": "code",
   "execution_count": 2,
   "metadata": {
    "ExecuteTime": {
     "end_time": "2018-10-23T08:42:59.785484Z",
     "start_time": "2018-10-23T08:42:59.764383Z"
    },
    "scrolled": true
   },
   "outputs": [
    {
     "name": "stdout",
     "output_type": "stream",
     "text": [
      "(817, 3)\n",
      "[[ 9.95  6.69  1.  ]\n",
      " [10.54  8.53  1.  ]\n",
      " [ 6.58  8.74  1.  ]\n",
      " ...\n",
      " [ 3.98  6.51  0.  ]\n",
      " [ 4.9   6.16  0.  ]\n",
      " [ 3.38  4.95  0.  ]]\n"
     ]
    }
   ],
   "source": [
    "import matplotlib.pyplot as plt\n",
    "import pandas as pd\n",
    "import numpy as np\n",
    "\n",
    "#read data\n",
    "df = pd.read_csv(\"/Users/xuzhaokai/Desktop/109 HW3 due 10:23/hw3_divseq_data.csv\")\n",
    "data = df.values # pd dataFrate to matrix\n",
    "\n",
    "print data.shape\n",
    "print data"
   ]
  },
  {
   "cell_type": "code",
   "execution_count": 6,
   "metadata": {
    "ExecuteTime": {
     "end_time": "2018-10-23T08:49:50.708479Z",
     "start_time": "2018-10-23T08:49:50.702528Z"
    }
   },
   "outputs": [],
   "source": [
    "Lars2 = data[:,0]\n",
    "Malat1 = data[:,1]\n",
    "mature = data[:,2]"
   ]
  },
  {
   "cell_type": "code",
   "execution_count": 7,
   "metadata": {
    "ExecuteTime": {
     "end_time": "2018-10-23T08:49:59.845469Z",
     "start_time": "2018-10-23T08:49:59.240493Z"
    }
   },
   "outputs": [
    {
     "data": {
      "text/plain": [
       "<matplotlib.axes._subplots.AxesSubplot at 0x1c19bb45d0>"
      ]
     },
     "execution_count": 7,
     "metadata": {},
     "output_type": "execute_result"
    },
    {
     "data": {
      "image/png": "[encoded data removed]",
      "text/plain": [
       "<matplotlib.figure.Figure at 0x106e862d0>"
      ]
     },
     "metadata": {},
     "output_type": "display_data"
    }
   ],
   "source": [
    "# a. Create a box plot showing the expression level of Lars2 for immature and mature neurons. Do\n",
    "# the same for Malat1 .\n",
    "df.plot.scatter(\"Lars2\",\"mature\")"
   ]
  },
  {
   "cell_type": "code",
   "execution_count": 8,
   "metadata": {
    "ExecuteTime": {
     "end_time": "2018-10-23T08:50:01.327123Z",
     "start_time": "2018-10-23T08:50:01.007492Z"
    }
   },
   "outputs": [
    {
     "data": {
      "text/plain": [
       "<matplotlib.axes._subplots.AxesSubplot at 0x106c1aa90>"
      ]
     },
     "execution_count": 8,
     "metadata": {},
     "output_type": "execute_result"
    },
    {
     "data": {
      "image/png": "[encoded data removed]",
      "text/plain": [
       "<matplotlib.figure.Figure at 0x106e86350>"
      ]
     },
     "metadata": {},
     "output_type": "display_data"
    }
   ],
   "source": [
    "df.plot.scatter(\"Malat1\",\"mature\")"
   ]
  },
  {
   "cell_type": "markdown",
   "metadata": {
    "ExecuteTime": {
     "end_time": "2018-10-22T18:26:04.909836Z",
     "start_time": "2018-10-22T18:26:04.892885Z"
    }
   },
   "source": [
    "#### b. Based on these plots, comment on whether you expect that \n",
    "#### a classifier could perfectly predict a neuron’s maturity based on Lars2 expression alone.\n",
    "\n",
    "No because there are still a range of overlap between label 0 and label 1\n",
    "for Lars2 from 5 to 8, the classifier can not prefectly predict what the label is \n",
    "only based on Lars2"
   ]
  },
  {
   "cell_type": "code",
   "execution_count": 67,
   "metadata": {
    "ExecuteTime": {
     "end_time": "2018-10-23T17:14:25.479598Z",
     "start_time": "2018-10-23T17:14:25.281821Z"
    },
    "scrolled": true
   },
   "outputs": [
    {
     "name": "stdout",
     "output_type": "stream",
     "text": [
      "   const  Lars2\n",
      "0    1.0   9.95\n",
      "1    1.0  10.54\n",
      "2    1.0   6.58\n",
      "3    1.0   7.49\n",
      "4    1.0   7.42\n",
      "Optimization terminated successfully.\n",
      "         Current function value: 0.235975\n",
      "         Iterations 9\n",
      "                        Results: Logit\n",
      "===============================================================\n",
      "Model:              Logit            No. Iterations:   9.0000  \n",
      "Dependent Variable: y                Pseudo R-squared: 0.531   \n",
      "Date:               2018-10-23 10:14 AIC:              389.5837\n",
      "No. Observations:   817              BIC:              398.9950\n",
      "Df Model:           1                Log-Likelihood:   -192.79 \n",
      "Df Residuals:       815              LL-Null:          -411.04 \n",
      "Converged:          1.0000           Scale:            1.0000  \n",
      "----------------------------------------------------------------\n",
      "         Coef.    Std.Err.     z      P>|z|    [0.025    0.975] \n",
      "----------------------------------------------------------------\n",
      "const   -17.9775    1.4318  -12.5561  0.0000  -20.7837  -15.1713\n",
      "Lars2     2.5422    0.2085   12.1914  0.0000    2.1335    2.9509\n",
      "===============================================================\n",
      "\n"
     ]
    }
   ],
   "source": [
    "# c. Fit a logistic regression to predict mature based on Lars2 alone; do not use Malat1 . \n",
    "import numpy as np\n",
    "import statsmodels.api as sm # statsmodels library\n",
    "# import statsmodels.formula.api as smf  \n",
    "# same as import statsmodels.api as sm BUT no need to add const\n",
    "\n",
    "#add const to gain intercept\n",
    "Lars2_const = sm.add_constant(df[\"Lars2\"])\n",
    "print(Lars2_const.head())\n",
    "\n",
    "model = sm.Logit(mature,Lars2_const) \n",
    "results = model.fit()\n",
    "print(results.summary2())  # weird error. use DO not use print(results.summary())"
   ]
  },
  {
   "cell_type": "code",
   "execution_count": 68,
   "metadata": {
    "ExecuteTime": {
     "end_time": "2018-10-23T17:14:31.397688Z",
     "start_time": "2018-10-23T17:14:31.386739Z"
    }
   },
   "outputs": [
    {
     "name": "stdout",
     "output_type": "stream",
     "text": [
      "const    3.679364e-36\n",
      "Lars2    3.455778e-34\n",
      "dtype: float64\n"
     ]
    }
   ],
   "source": [
    "print(results.pvalues)"
   ]
  },
  {
   "cell_type": "markdown",
   "metadata": {
    "ExecuteTime": {
     "end_time": "2018-10-23T16:57:23.330998Z",
     "start_time": "2018-10-23T16:57:23.324073Z"
    }
   },
   "source": [
    "What is the p-value for coefficient (slope) of Lars2 ?\n",
    "\n",
    "3.455778e-34\n",
    "\n",
    "What can you infer, i.e. what conclusion can you draw?\n",
    "\n",
    "since the p - value( the prob that we would observe the data if H0 were true ) is small,\n",
    "p<0.05, we can draw the conclustion that there is a very strong positive relation between Lars2 and mature\n"
   ]
  },
  {
   "cell_type": "code",
   "execution_count": 125,
   "metadata": {
    "ExecuteTime": {
     "end_time": "2018-10-24T03:20:16.791707Z",
     "start_time": "2018-10-24T03:20:16.254648Z"
    }
   },
   "outputs": [
    {
     "data": {
      "text/plain": [
       "<matplotlib.text.Text at 0x1c1ba96590>"
      ]
     },
     "execution_count": 125,
     "metadata": {},
     "output_type": "execute_result"
    },
    {
     "data": {
      "image/png": "[encoded data removed]",
      "text/plain": [
       "<matplotlib.figure.Figure at 0x1c1b77f750>"
      ]
     },
     "metadata": {},
     "output_type": "display_data"
    }
   ],
   "source": [
    "# d. Using your model, calculate the predicted probability that each neuron is mature, i.e.\n",
    "# p = P(mature | Lars2) . Make a plot showing Lars2 on the x-axis vs. p on the y-axis. \n",
    "# The plot should have a sigmoid shape. \n",
    "\n",
    "import numpy as np\n",
    "import statsmodels.api as sm \n",
    "import matplotlib.pyplot as plt\n",
    "\n",
    "mature_predict = results.predict(Lars2_const)\n",
    "\n",
    "plt.plot(Lars2, mature_predict, 'ro')\n",
    "plt.plot(Lars2, mature, 'bo')\n",
    "plt.xlabel(\"Lars2\")\n",
    "plt.ylabel(\"mature\")\n",
    "plt.title (\" Lars2 VS mature using Logistic Reg \")"
   ]
  },
  {
   "cell_type": "markdown",
   "metadata": {},
   "source": [
    "#### Based on this plot, what prediction would you make for the maturity of a cell with Lars2 = 8?\n",
    "\n",
    "when Lars2 = 8, we predict the mature to be 1, which means true "
   ]
  },
  {
   "cell_type": "code",
   "execution_count": 140,
   "metadata": {
    "ExecuteTime": {
     "end_time": "2018-10-24T03:35:15.672585Z",
     "start_time": "2018-10-24T03:35:15.629682Z"
    }
   },
   "outputs": [
    {
     "name": "stdout",
     "output_type": "stream",
     "text": [
      "mature_size:  165\n",
      "mature that is correctly predicted  108\n",
      " the fraction of mature cells that are correctly classified as mature is\n",
      "65.4545454545 %\n"
     ]
    }
   ],
   "source": [
    "# e. Use a Bayesian classification criterion to predict, for each cell, whether or not it is mature. Recall\n",
    "# that a Bayesian classifier chooses the most likely category; in this case, that means that it\n",
    "# should predict “mature” whenever . Using these predictions, P(mature | Lars2) > 0.5 compute the\n",
    "# sensitivity of your classifier, i.e. the fraction of mature cells that are correctly classified as\n",
    "# mature.\n",
    "\n",
    "predict_label_list = []\n",
    "\n",
    "for item in mature_predict:\n",
    "    if item < 0.5:\n",
    "        predict_label_list.append(0)\n",
    "    else:\n",
    "        predict_label_list.append(1)\n",
    "\n",
    "mature_counter=0\n",
    "mature_size = 0 \n",
    "size = len(predict_label_list)\n",
    "for i in range(size):\n",
    "    if mature[i] == 1:\n",
    "        mature_size+=1\n",
    "    if predict_label_list[i] == mature[i] and  mature[i] ==1:\n",
    "        mature_counter += 1\n",
    "        \n",
    "print \"mature_size: \", mature_size\n",
    "print \"mature that is correctly predicted \", mature_counter\n",
    "print \" the fraction of mature cells that are correctly classified as mature is\"\n",
    "print float(mature_counter)/float(mature_size) *100,\"%\""
   ]
  },
  {
   "cell_type": "code",
   "execution_count": 142,
   "metadata": {
    "ExecuteTime": {
     "end_time": "2018-10-24T03:37:03.402176Z",
     "start_time": "2018-10-24T03:37:03.355811Z"
    }
   },
   "outputs": [
    {
     "name": "stdout",
     "output_type": "stream",
     "text": [
      "immature_size:  652\n",
      "immature that is correctly predicted  616\n",
      " the fraction of immature cells that are correctly classified as immature is\n",
      "94.4785276074 %\n"
     ]
    }
   ],
   "source": [
    "# f. Compute the specificity of your classifier, \n",
    "#i.e. the fraction of immature cells that are correctly classified as immature.\n",
    "\n",
    "immature_counter=0\n",
    "immature_size = 0 \n",
    "size = len(predict_label_list)\n",
    "for i in range(size):\n",
    "    if mature[i] == 0:\n",
    "        immature_size+=1\n",
    "    if predict_label_list[i] == mature[i] and  mature[i] ==0:\n",
    "        immature_counter += 1\n",
    "        \n",
    "print \"immature_size: \", immature_size\n",
    "print \"immature that is correctly predicted \", immature_counter\n",
    "\n",
    "print \" the fraction of immature cells that are correctly classified as immature is\"\n",
    "print float(immature_counter)/float(immature_size) *100,\"%\"\n",
    "\n"
   ]
  },
  {
   "cell_type": "code",
   "execution_count": 147,
   "metadata": {
    "ExecuteTime": {
     "end_time": "2018-10-24T03:39:49.276223Z",
     "start_time": "2018-10-24T03:39:49.199881Z"
    }
   },
   "outputs": [
    {
     "name": "stdout",
     "output_type": "stream",
     "text": [
      "mature_size:  165\n",
      "mature that is correctly predicted  150\n",
      " sensitivity == the fraction of mature cells that are correctly classified as mature is\n",
      "90.9090909091 %\n",
      "\n",
      "\n",
      "immature_size:  652\n",
      "immature that is correctly predicted  566\n",
      " specificity == the fraction of immature cells that are correctly classified as immature is\n",
      "86.8098159509 %\n"
     ]
    }
   ],
   "source": [
    "# g Try predicting the maturity level for each cell with a threshold of 20%, i.e. predict mature\n",
    "# whenever P(mature | Lars2) > 0.2 . What are the sensitivity and specificity? \n",
    "\n",
    "predict_label_list = []\n",
    "\n",
    "for item in mature_predict:\n",
    "    if item < 0.2:\n",
    "        predict_label_list.append(0)\n",
    "    else:\n",
    "        predict_label_list.append(1)\n",
    "\n",
    "mature_counter=0\n",
    "mature_size = 0 \n",
    "size = len(predict_label_list)\n",
    "for i in range(size):\n",
    "    if mature[i] == 1:\n",
    "        mature_size+=1\n",
    "    if predict_label_list[i] == mature[i] and  mature[i] ==1:\n",
    "        mature_counter += 1\n",
    "        \n",
    "print \"mature_size: \", mature_size\n",
    "print \"mature that is correctly predicted \", mature_counter\n",
    "print \" sensitivity == the fraction of mature cells that are correctly classified as mature is\"\n",
    "print float(mature_counter)/float(mature_size) *100,\"%\"\n",
    "\n",
    "immature_counter=0\n",
    "immature_size = 0 \n",
    "size = len(predict_label_list)\n",
    "for i in range(size):\n",
    "    if mature[i] == 0:\n",
    "        immature_size+=1\n",
    "    if predict_label_list[i] == mature[i] and  mature[i] ==0:\n",
    "        immature_counter += 1\n",
    "        \n",
    "print \"\\n\\nimmature_size: \", immature_size\n",
    "print \"immature that is correctly predicted \", immature_counter\n",
    "\n",
    "print \" specificity == the fraction of immature cells that are correctly classified as immature is\"\n",
    "print float(immature_counter)/float(immature_size) *100,\"%\""
   ]
  },
  {
   "cell_type": "markdown",
   "metadata": {},
   "source": [
    "#### g. Explain why the sensitivity is increased, while the specificity is decreased. \n",
    "\n",
    "By observing the previously printed diagram. The sensitivity is increased, while the specificity is decreased \n",
    "is mainly a result of the distribution of the data.\n",
    "\n",
    "if we set the threshold to be 0.5,\n",
    "then a huge number of the mature data are misclassified to be immature,\n",
    "\n",
    "while the immature data are mostly predicted correctly.\n",
    "This results in a low sensitivity and a high specificity\n",
    "\n",
    "\n",
    "And if we set the threshold to be 0.2\n",
    "then the theshold is moving a bit left, so that less mature data are misclassified,\n",
    "\n",
    "while a little bit more immature data  are misclassified.\n",
    "This resulte in a much higher sensitivity and a bit lower specificity\n",
    "\n",
    "\n",
    "From this experiment, we notice that there is a trade-off while selecting the threshold \n",
    "Neither too large nor too small will not be good for the overall prediction.\n",
    "\n",
    "#### In what circumstance might you prefer to use this classification threshold (20%) \n",
    "#### instead of the Bayesian threshold (50%)?\n",
    "\n",
    "When the distribution of matual data is mainly located on the right of threshold 20%\n",
    "and the distribution of immatual data is mainly located on the left of the threshold 20%,\n",
    "we prefer to have a threshold(20%) that will leads to a higher sensitivity and specificity\n"
   ]
  },
  {
   "cell_type": "code",
   "execution_count": 169,
   "metadata": {
    "ExecuteTime": {
     "end_time": "2018-10-24T04:22:53.295634Z",
     "start_time": "2018-10-24T04:22:52.739486Z"
    }
   },
   "outputs": [
    {
     "data": {
      "text/plain": [
       "<matplotlib.text.Text at 0x1c1de51b10>"
      ]
     },
     "execution_count": 169,
     "metadata": {},
     "output_type": "execute_result"
    },
    {
     "data": {
      "image/png": "[encoded data removed]",
      "text/plain": [
       "<matplotlib.figure.Figure at 0x1c1dbd1fd0>"
      ]
     },
     "metadata": {},
     "output_type": "display_data"
    }
   ],
   "source": [
    "# # h. Now we will incorporate data from both genes to try to improve our prediction. First, make a\n",
    "# scatter plot showing Lars2 expression (x-axis) vs. Malat1 expression (y-axis). Use a different\n",
    "# color and/or plot symbol for cells that are immature and mature. Make sure to label the axes of\n",
    "# the plot and include a legend explaining which color/symbol corresponds to which condition.\n",
    "\n",
    "import matplotlib.pyplot as plt\n",
    "\n",
    "plt.plot(Malat1,mature,'ro')\n",
    "plt.xlabel(\"Malat1\")\n",
    "plt.ylabel(\"mature\")\n",
    "plt.title (\" Malat1 VS mature using Logistic Reg \")\n"
   ]
  },
  {
   "cell_type": "code",
   "execution_count": null,
   "metadata": {},
   "outputs": [],
   "source": [
    "# i. Fit a logistic regression using both Lars2 and Malat1 as predictors. Print the regression\n",
    "# summary table showing the coefficients, SE, t-statistic and p-value for each term. Which\n",
    "# predictors have a significant effect?"
   ]
  },
  {
   "cell_type": "code",
   "execution_count": null,
   "metadata": {},
   "outputs": [],
   "source": []
  },
  {
   "cell_type": "code",
   "execution_count": null,
   "metadata": {},
   "outputs": [],
   "source": []
  },
  {
   "cell_type": "code",
   "execution_count": null,
   "metadata": {},
   "outputs": [],
   "source": []
  }
 ],
 "metadata": {
  "kernelspec": {
   "display_name": "Python 2",
   "language": "python",
   "name": "python2"
  },
  "language_info": {
   "codemirror_mode": {
    "name": "ipython",
    "version": 2
   },
   "file_extension": ".py",
   "mimetype": "text/x-python",
   "name": "python",
   "nbconvert_exporter": "python",
   "pygments_lexer": "ipython2",
   "version": "2.7.15"
  },
  "latex_envs": {
   "LaTeX_envs_menu_present": true,
   "autoclose": false,
   "autocomplete": true,
   "bibliofile": "biblio.bib",
   "cite_by": "apalike",
   "current_citInitial": 1,
   "eqLabelWithNumbers": true,
   "eqNumInitial": 1,
   "hotkeys": {
    "equation": "Ctrl-E",
    "itemize": "Ctrl-I"
   },
   "labels_anchors": false,
   "latex_user_defs": false,
   "report_style_numbering": false,
   "user_envs_cfg": false
  },
  "varInspector": {
   "cols": {
    "lenName": 16,
    "lenType": 16,
    "lenVar": 40
   },
   "kernels_config": {
    "python": {
     "delete_cmd_postfix": "",
     "delete_cmd_prefix": "del ",
     "library": "var_list.py",
     "varRefreshCmd": "print(var_dic_list())"
    },
    "r": {
     "delete_cmd_postfix": ") ",
     "delete_cmd_prefix": "rm(",
     "library": "var_list.r",
     "varRefreshCmd": "cat(var_dic_list()) "
    }
   },
   "types_to_exclude": [
    "module",
    "function",
    "builtin_function_or_method",
    "instance",
    "_Feature"
   ],
   "window_display": false
  }
 },
 "nbformat": 4,
 "nbformat_minor": 2
}
