{
 "cells": [
  {
   "cell_type": "markdown",
   "metadata": {},
   "source": [
    "We'll start playing with linear regression. Remember, we're trying to estimate parameters:\n",
    "\n",
    "$$\n",
    "\\beta_0, \\beta_1\n",
    "$$\n",
    "\n",
    "to fit:\n",
    "\n",
    "$$\n",
    "Y = \\beta_0 + \\beta_1 X_1 + \\epsilon\n",
    "$$\n",
    "\n",
    "where $\\epsilon$ is our \"noise\" term.\n"
   ]
  },
  {
   "cell_type": "code",
   "execution_count": 45,
   "metadata": {},
   "outputs": [
    {
     "name": "stdout",
     "output_type": "stream",
     "text": [
      "    Unnamed: 0  Education   Seniority     Income\n",
      "0            1  21.586207  113.103448  99.917173\n",
      "1            2  18.275862  119.310345  92.579135\n",
      "2            3  12.068966  100.689655  34.678727\n",
      "3            4  17.034483  187.586207  78.702806\n",
      "4            5  19.931034   20.000000  68.009922\n",
      "5            6  18.275862   26.206897  71.504485\n",
      "6            7  19.931034  150.344828  87.970467\n",
      "7            8  21.172414   82.068966  79.811030\n",
      "8            9  20.344828   88.275862  90.006327\n",
      "9           10  10.000000  113.103448  45.655529\n",
      "10          11  13.724138   51.034483  31.913808\n",
      "11          12  18.689655  144.137931  96.282997\n",
      "12          13  11.655172   20.000000  27.982505\n",
      "13          14  16.620690   94.482759  66.601792\n",
      "14          15  10.000000  187.586207  41.531992\n",
      "15          16  20.344828   94.482759  89.000701\n",
      "16          17  14.137931   20.000000  28.816301\n",
      "17          18  16.620690   44.827586  57.681694\n",
      "18          19  16.620690  175.172414  70.105096\n",
      "19          20  20.344828  187.586207  98.834012\n",
      "20          21  18.275862  100.689655  74.704699\n",
      "21          22  14.551724  137.931034  53.532106\n",
      "22          23  17.448276   94.482759  72.078924\n",
      "23          24  10.413793   32.413793  18.570665\n",
      "24          25  21.586207   20.000000  78.805784\n",
      "25          26  11.241379   44.827586  21.388561\n",
      "26          27  19.931034  168.965517  90.814035\n",
      "27          28  11.655172   57.241379  22.636163\n",
      "28          29  12.068966   32.413793  17.613593\n",
      "29          30  17.034483  106.896552  74.610960\n"
     ]
    }
   ],
   "source": [
    "%matplotlib inline\n",
    "\n",
    "import matplotlib.pyplot as plt\n",
    "import numpy as np\n",
    "import pandas\n",
    "\n",
    "# leaner, more stuff to do ourselves.\n",
    "import sklearn\n",
    "from sklearn import linear_model\n",
    "\n",
    "# lots of help (do we need it?)\n",
    "import statsmodels\n",
    "import statsmodels.api as sm\n",
    "\n",
    "# load data.\n",
    "income_data = pandas.read_csv(\"Income2.csv\")\n",
    "print(income_data)"
   ]
  },
  {
   "cell_type": "code",
   "execution_count": 51,
   "metadata": {},
   "outputs": [
    {
     "data": {
      "text/plain": [
       "Index([u'Col1', u'Col2', u'Col3'], dtype='object')"
      ]
     },
     "execution_count": 51,
     "metadata": {},
     "output_type": "execute_result"
    }
   ],
   "source": [
    "# Quick aside for HW2\n",
    "hw2_data = pandas.read_csv(\"hw2.csv\", names=[\"Col1\", \"Col2\", \"Col3\"])\n",
    "hw2_data.shape\n",
    "hw2_data.columns\n"
   ]
  },
  {
   "cell_type": "markdown",
   "metadata": {},
   "source": [
    "Is there a relationship between income and education? Maybe, is it linear?"
   ]
  },
  {
   "cell_type": "code",
   "execution_count": 52,
   "metadata": {},
   "outputs": [
    {
     "data": {
      "text/plain": [
       "<matplotlib.axes._subplots.AxesSubplot at 0x1c2ec489d0>"
      ]
     },
     "execution_count": 52,
     "metadata": {},
     "output_type": "execute_result"
    },
    {
     "data": {
      "image/png": "[encoded data removed]",
      "text/plain": [
       "<Figure size 432x288 with 1 Axes>"
      ]
     },
     "metadata": {},
     "output_type": "display_data"
    }
   ],
   "source": [
    "income_data.plot.scatter(\"Education\", \"Income\")"
   ]
  },
  {
   "cell_type": "markdown",
   "metadata": {},
   "source": [
    "What kind of correlation are we seeing?"
   ]
  },
  {
   "cell_type": "code",
   "execution_count": 53,
   "metadata": {},
   "outputs": [
    {
     "data": {
      "text/plain": [
       "LinearRegression(copy_X=True, fit_intercept=True, n_jobs=1, normalize=False)"
      ]
     },
     "execution_count": 53,
     "metadata": {},
     "output_type": "execute_result"
    }
   ],
   "source": [
    "# \"set up\" a linear regressor.\n",
    "model = linear_model.LinearRegression(fit_intercept=True)\n",
    "\n",
    "# the [[]] is important.\n",
    "model.fit(y=income_data[\"Income\"], X=income_data[[\"Education\"]])\n"
   ]
  },
  {
   "cell_type": "code",
   "execution_count": 57,
   "metadata": {},
   "outputs": [
    {
     "name": "stdout",
     "output_type": "stream",
     "text": [
      "Slopes: 6.387161217198067\n",
      "Intercept: -41.91661220978736\n"
     ]
    },
    {
     "data": {
      "text/plain": [
       "[<matplotlib.lines.Line2D at 0x1c2eccd7d0>]"
      ]
     },
     "execution_count": 57,
     "metadata": {},
     "output_type": "execute_result"
    },
    {
     "data": {
      "image/png": "[encoded data removed]",
      "text/plain": [
       "<Figure size 432x288 with 1 Axes>"
      ]
     },
     "metadata": {},
     "output_type": "display_data"
    }
   ],
   "source": [
    "print(\"Slopes: \" + str(model.coef_[0]))\n",
    "print(\"Intercept: \" + str(model.intercept_))\n",
    "\n",
    "X_test = np.linspace(10, 22)\n",
    "Y_test = model.coef_[0] * X_test + model.intercept_\n",
    "\n",
    "income_data.plot.scatter(\"Education\", \"Income\")\n",
    "plt.plot(X_test, Y_test)\n"
   ]
  },
  {
   "cell_type": "markdown",
   "metadata": {},
   "source": [
    "# More work done for us"
   ]
  },
  {
   "cell_type": "code",
   "execution_count": 59,
   "metadata": {},
   "outputs": [
    {
     "data": {
      "text/plain": [
       "const       -41.916612\n",
       "Education     6.387161\n",
       "dtype: float64"
      ]
     },
     "execution_count": 59,
     "metadata": {},
     "output_type": "execute_result"
    }
   ],
   "source": [
    "# similar to adding a ones() column in MATLAB\n",
    "income = income_data[\"Income\"]\n",
    "education = sm.add_constant(income_data[\"Education\"])\n",
    "\n",
    "sm_model = sm.OLS(income, education)\n",
    "sm_fit = sm_model.fit()\n",
    "sm_fit.params"
   ]
  },
  {
   "cell_type": "code",
   "execution_count": 20,
   "metadata": {},
   "outputs": [
    {
     "name": "stdout",
     "output_type": "stream",
     "text": [
      "                            OLS Regression Results                            \n",
      "==============================================================================\n",
      "Dep. Variable:                 Income   R-squared:                       0.812\n",
      "Model:                            OLS   Adj. R-squared:                  0.805\n",
      "Method:                 Least Squares   F-statistic:                     120.8\n",
      "Date:                Wed, 10 Oct 2018   Prob (F-statistic):           1.15e-11\n",
      "Time:                        13:43:09   Log-Likelihood:                -115.90\n",
      "No. Observations:                  30   AIC:                             235.8\n",
      "Df Residuals:                      28   BIC:                             238.6\n",
      "Df Model:                           1                                         \n",
      "Covariance Type:            nonrobust                                         \n",
      "==============================================================================\n",
      "                 coef    std err          t      P>|t|      [0.025      0.975]\n",
      "------------------------------------------------------------------------------\n",
      "const        -41.9166      9.769     -4.291      0.000     -61.927     -21.906\n",
      "Education      6.3872      0.581     10.990      0.000       5.197       7.578\n",
      "==============================================================================\n",
      "Omnibus:                        0.561   Durbin-Watson:                   2.194\n",
      "Prob(Omnibus):                  0.756   Jarque-Bera (JB):                0.652\n",
      "Skew:                           0.140   Prob(JB):                        0.722\n",
      "Kurtosis:                       2.335   Cond. No.                         75.7\n",
      "==============================================================================\n",
      "\n",
      "Warnings:\n",
      "[1] Standard Errors assume that the covariance matrix of the errors is correctly specified.\n"
     ]
    }
   ],
   "source": [
    "print(sm_fit.summary())"
   ]
  },
  {
   "cell_type": "code",
   "execution_count": 60,
   "metadata": {},
   "outputs": [
    {
     "name": "stdout",
     "output_type": "stream",
     "text": [
      "    Unnamed: 0  Education   Seniority     Income  AgeType\n",
      "0            1  21.586207  113.103448  99.917173     True\n",
      "1            2  18.275862  119.310345  92.579135     True\n",
      "2            3  12.068966  100.689655  34.678727     True\n",
      "3            4  17.034483  187.586207  78.702806     True\n",
      "4            5  19.931034   20.000000  68.009922    False\n",
      "5            6  18.275862   26.206897  71.504485    False\n",
      "6            7  19.931034  150.344828  87.970467     True\n",
      "7            8  21.172414   82.068966  79.811030     True\n",
      "8            9  20.344828   88.275862  90.006327     True\n",
      "9           10  10.000000  113.103448  45.655529     True\n",
      "10          11  13.724138   51.034483  31.913808    False\n",
      "11          12  18.689655  144.137931  96.282997     True\n",
      "12          13  11.655172   20.000000  27.982505    False\n",
      "13          14  16.620690   94.482759  66.601792     True\n",
      "14          15  10.000000  187.586207  41.531992     True\n",
      "15          16  20.344828   94.482759  89.000701     True\n",
      "16          17  14.137931   20.000000  28.816301    False\n",
      "17          18  16.620690   44.827586  57.681694    False\n",
      "18          19  16.620690  175.172414  70.105096     True\n",
      "19          20  20.344828  187.586207  98.834012     True\n",
      "20          21  18.275862  100.689655  74.704699     True\n",
      "21          22  14.551724  137.931034  53.532106     True\n",
      "22          23  17.448276   94.482759  72.078924     True\n",
      "23          24  10.413793   32.413793  18.570665    False\n",
      "24          25  21.586207   20.000000  78.805784    False\n",
      "25          26  11.241379   44.827586  21.388561    False\n",
      "26          27  19.931034  168.965517  90.814035     True\n",
      "27          28  11.655172   57.241379  22.636163    False\n",
      "28          29  12.068966   32.413793  17.613593    False\n",
      "29          30  17.034483  106.896552  74.610960     True\n"
     ]
    }
   ],
   "source": [
    "# From last time... (except on seniority). Turn it into a categorical.\n",
    "income_data[\"AgeType\"] = income_data[\"Seniority\"] >= 80.0\n",
    "print(income_data)\n"
   ]
  },
  {
   "cell_type": "code",
   "execution_count": 61,
   "metadata": {},
   "outputs": [
    {
     "data": {
      "text/html": [
       "<div>\n",
       "<style scoped>\n",
       "    .dataframe tbody tr th:only-of-type {\n",
       "        vertical-align: middle;\n",
       "    }\n",
       "\n",
       "    .dataframe tbody tr th {\n",
       "        vertical-align: top;\n",
       "    }\n",
       "\n",
       "    .dataframe thead th {\n",
       "        text-align: right;\n",
       "    }\n",
       "</style>\n",
       "<table border=\"1\" class=\"dataframe\">\n",
       "  <thead>\n",
       "    <tr style=\"text-align: right;\">\n",
       "      <th></th>\n",
       "      <th>Unnamed: 0</th>\n",
       "      <th>Education</th>\n",
       "      <th>Seniority</th>\n",
       "      <th>Income</th>\n",
       "      <th>AgeType_True</th>\n",
       "    </tr>\n",
       "  </thead>\n",
       "  <tbody>\n",
       "    <tr>\n",
       "      <th>0</th>\n",
       "      <td>1</td>\n",
       "      <td>21.586207</td>\n",
       "      <td>113.103448</td>\n",
       "      <td>99.917173</td>\n",
       "      <td>1</td>\n",
       "    </tr>\n",
       "    <tr>\n",
       "      <th>1</th>\n",
       "      <td>2</td>\n",
       "      <td>18.275862</td>\n",
       "      <td>119.310345</td>\n",
       "      <td>92.579135</td>\n",
       "      <td>1</td>\n",
       "    </tr>\n",
       "    <tr>\n",
       "      <th>2</th>\n",
       "      <td>3</td>\n",
       "      <td>12.068966</td>\n",
       "      <td>100.689655</td>\n",
       "      <td>34.678727</td>\n",
       "      <td>1</td>\n",
       "    </tr>\n",
       "    <tr>\n",
       "      <th>3</th>\n",
       "      <td>4</td>\n",
       "      <td>17.034483</td>\n",
       "      <td>187.586207</td>\n",
       "      <td>78.702806</td>\n",
       "      <td>1</td>\n",
       "    </tr>\n",
       "    <tr>\n",
       "      <th>4</th>\n",
       "      <td>5</td>\n",
       "      <td>19.931034</td>\n",
       "      <td>20.000000</td>\n",
       "      <td>68.009922</td>\n",
       "      <td>0</td>\n",
       "    </tr>\n",
       "    <tr>\n",
       "      <th>5</th>\n",
       "      <td>6</td>\n",
       "      <td>18.275862</td>\n",
       "      <td>26.206897</td>\n",
       "      <td>71.504485</td>\n",
       "      <td>0</td>\n",
       "    </tr>\n",
       "    <tr>\n",
       "      <th>6</th>\n",
       "      <td>7</td>\n",
       "      <td>19.931034</td>\n",
       "      <td>150.344828</td>\n",
       "      <td>87.970467</td>\n",
       "      <td>1</td>\n",
       "    </tr>\n",
       "    <tr>\n",
       "      <th>7</th>\n",
       "      <td>8</td>\n",
       "      <td>21.172414</td>\n",
       "      <td>82.068966</td>\n",
       "      <td>79.811030</td>\n",
       "      <td>1</td>\n",
       "    </tr>\n",
       "    <tr>\n",
       "      <th>8</th>\n",
       "      <td>9</td>\n",
       "      <td>20.344828</td>\n",
       "      <td>88.275862</td>\n",
       "      <td>90.006327</td>\n",
       "      <td>1</td>\n",
       "    </tr>\n",
       "    <tr>\n",
       "      <th>9</th>\n",
       "      <td>10</td>\n",
       "      <td>10.000000</td>\n",
       "      <td>113.103448</td>\n",
       "      <td>45.655529</td>\n",
       "      <td>1</td>\n",
       "    </tr>\n",
       "    <tr>\n",
       "      <th>10</th>\n",
       "      <td>11</td>\n",
       "      <td>13.724138</td>\n",
       "      <td>51.034483</td>\n",
       "      <td>31.913808</td>\n",
       "      <td>0</td>\n",
       "    </tr>\n",
       "    <tr>\n",
       "      <th>11</th>\n",
       "      <td>12</td>\n",
       "      <td>18.689655</td>\n",
       "      <td>144.137931</td>\n",
       "      <td>96.282997</td>\n",
       "      <td>1</td>\n",
       "    </tr>\n",
       "    <tr>\n",
       "      <th>12</th>\n",
       "      <td>13</td>\n",
       "      <td>11.655172</td>\n",
       "      <td>20.000000</td>\n",
       "      <td>27.982505</td>\n",
       "      <td>0</td>\n",
       "    </tr>\n",
       "    <tr>\n",
       "      <th>13</th>\n",
       "      <td>14</td>\n",
       "      <td>16.620690</td>\n",
       "      <td>94.482759</td>\n",
       "      <td>66.601792</td>\n",
       "      <td>1</td>\n",
       "    </tr>\n",
       "    <tr>\n",
       "      <th>14</th>\n",
       "      <td>15</td>\n",
       "      <td>10.000000</td>\n",
       "      <td>187.586207</td>\n",
       "      <td>41.531992</td>\n",
       "      <td>1</td>\n",
       "    </tr>\n",
       "    <tr>\n",
       "      <th>15</th>\n",
       "      <td>16</td>\n",
       "      <td>20.344828</td>\n",
       "      <td>94.482759</td>\n",
       "      <td>89.000701</td>\n",
       "      <td>1</td>\n",
       "    </tr>\n",
       "    <tr>\n",
       "      <th>16</th>\n",
       "      <td>17</td>\n",
       "      <td>14.137931</td>\n",
       "      <td>20.000000</td>\n",
       "      <td>28.816301</td>\n",
       "      <td>0</td>\n",
       "    </tr>\n",
       "    <tr>\n",
       "      <th>17</th>\n",
       "      <td>18</td>\n",
       "      <td>16.620690</td>\n",
       "      <td>44.827586</td>\n",
       "      <td>57.681694</td>\n",
       "      <td>0</td>\n",
       "    </tr>\n",
       "    <tr>\n",
       "      <th>18</th>\n",
       "      <td>19</td>\n",
       "      <td>16.620690</td>\n",
       "      <td>175.172414</td>\n",
       "      <td>70.105096</td>\n",
       "      <td>1</td>\n",
       "    </tr>\n",
       "    <tr>\n",
       "      <th>19</th>\n",
       "      <td>20</td>\n",
       "      <td>20.344828</td>\n",
       "      <td>187.586207</td>\n",
       "      <td>98.834012</td>\n",
       "      <td>1</td>\n",
       "    </tr>\n",
       "    <tr>\n",
       "      <th>20</th>\n",
       "      <td>21</td>\n",
       "      <td>18.275862</td>\n",
       "      <td>100.689655</td>\n",
       "      <td>74.704699</td>\n",
       "      <td>1</td>\n",
       "    </tr>\n",
       "    <tr>\n",
       "      <th>21</th>\n",
       "      <td>22</td>\n",
       "      <td>14.551724</td>\n",
       "      <td>137.931034</td>\n",
       "      <td>53.532106</td>\n",
       "      <td>1</td>\n",
       "    </tr>\n",
       "    <tr>\n",
       "      <th>22</th>\n",
       "      <td>23</td>\n",
       "      <td>17.448276</td>\n",
       "      <td>94.482759</td>\n",
       "      <td>72.078924</td>\n",
       "      <td>1</td>\n",
       "    </tr>\n",
       "    <tr>\n",
       "      <th>23</th>\n",
       "      <td>24</td>\n",
       "      <td>10.413793</td>\n",
       "      <td>32.413793</td>\n",
       "      <td>18.570665</td>\n",
       "      <td>0</td>\n",
       "    </tr>\n",
       "    <tr>\n",
       "      <th>24</th>\n",
       "      <td>25</td>\n",
       "      <td>21.586207</td>\n",
       "      <td>20.000000</td>\n",
       "      <td>78.805784</td>\n",
       "      <td>0</td>\n",
       "    </tr>\n",
       "    <tr>\n",
       "      <th>25</th>\n",
       "      <td>26</td>\n",
       "      <td>11.241379</td>\n",
       "      <td>44.827586</td>\n",
       "      <td>21.388561</td>\n",
       "      <td>0</td>\n",
       "    </tr>\n",
       "    <tr>\n",
       "      <th>26</th>\n",
       "      <td>27</td>\n",
       "      <td>19.931034</td>\n",
       "      <td>168.965517</td>\n",
       "      <td>90.814035</td>\n",
       "      <td>1</td>\n",
       "    </tr>\n",
       "    <tr>\n",
       "      <th>27</th>\n",
       "      <td>28</td>\n",
       "      <td>11.655172</td>\n",
       "      <td>57.241379</td>\n",
       "      <td>22.636163</td>\n",
       "      <td>0</td>\n",
       "    </tr>\n",
       "    <tr>\n",
       "      <th>28</th>\n",
       "      <td>29</td>\n",
       "      <td>12.068966</td>\n",
       "      <td>32.413793</td>\n",
       "      <td>17.613593</td>\n",
       "      <td>0</td>\n",
       "    </tr>\n",
       "    <tr>\n",
       "      <th>29</th>\n",
       "      <td>30</td>\n",
       "      <td>17.034483</td>\n",
       "      <td>106.896552</td>\n",
       "      <td>74.610960</td>\n",
       "      <td>1</td>\n",
       "    </tr>\n",
       "  </tbody>\n",
       "</table>\n",
       "</div>"
      ],
      "text/plain": [
       "    Unnamed: 0  Education   Seniority     Income  AgeType_True\n",
       "0            1  21.586207  113.103448  99.917173             1\n",
       "1            2  18.275862  119.310345  92.579135             1\n",
       "2            3  12.068966  100.689655  34.678727             1\n",
       "3            4  17.034483  187.586207  78.702806             1\n",
       "4            5  19.931034   20.000000  68.009922             0\n",
       "5            6  18.275862   26.206897  71.504485             0\n",
       "6            7  19.931034  150.344828  87.970467             1\n",
       "7            8  21.172414   82.068966  79.811030             1\n",
       "8            9  20.344828   88.275862  90.006327             1\n",
       "9           10  10.000000  113.103448  45.655529             1\n",
       "10          11  13.724138   51.034483  31.913808             0\n",
       "11          12  18.689655  144.137931  96.282997             1\n",
       "12          13  11.655172   20.000000  27.982505             0\n",
       "13          14  16.620690   94.482759  66.601792             1\n",
       "14          15  10.000000  187.586207  41.531992             1\n",
       "15          16  20.344828   94.482759  89.000701             1\n",
       "16          17  14.137931   20.000000  28.816301             0\n",
       "17          18  16.620690   44.827586  57.681694             0\n",
       "18          19  16.620690  175.172414  70.105096             1\n",
       "19          20  20.344828  187.586207  98.834012             1\n",
       "20          21  18.275862  100.689655  74.704699             1\n",
       "21          22  14.551724  137.931034  53.532106             1\n",
       "22          23  17.448276   94.482759  72.078924             1\n",
       "23          24  10.413793   32.413793  18.570665             0\n",
       "24          25  21.586207   20.000000  78.805784             0\n",
       "25          26  11.241379   44.827586  21.388561             0\n",
       "26          27  19.931034  168.965517  90.814035             1\n",
       "27          28  11.655172   57.241379  22.636163             0\n",
       "28          29  12.068966   32.413793  17.613593             0\n",
       "29          30  17.034483  106.896552  74.610960             1"
      ]
     },
     "execution_count": 61,
     "metadata": {},
     "output_type": "execute_result"
    }
   ],
   "source": [
    "# apply dummy variables.\n",
    "pandas.get_dummies(income_data, columns=[\"AgeType\"], drop_first=True)"
   ]
  },
  {
   "cell_type": "code",
   "execution_count": 42,
   "metadata": {},
   "outputs": [
    {
     "data": {
      "text/plain": [
       "const       -39.810815\n",
       "Education     5.472944\n",
       "AgeType      20.328567\n",
       "dtype: float64"
      ]
     },
     "execution_count": 42,
     "metadata": {},
     "output_type": "execute_result"
    }
   ],
   "source": [
    "# usually we actually want.\n",
    "categorized_income = pandas.get_dummies(income_data, columns=[\"AgeType\"], drop_first=True)\n",
    "#print(categorized_income)\n",
    "\n",
    "education[\"AgeType\"] = categorized_income[\"AgeType_True\"]\n",
    "\n",
    "sm_model = sm.OLS(income, education)\n",
    "sm_fit = sm_model.fit()\n",
    "sm_fit.params"
   ]
  },
  {
   "cell_type": "markdown",
   "metadata": {},
   "source": [
    "# Using formulas"
   ]
  },
  {
   "cell_type": "code",
   "execution_count": 1,
   "metadata": {},
   "outputs": [],
   "source": [
    "import statsmodels.formula.api as smf"
   ]
  },
  {
   "cell_type": "code",
   "execution_count": 62,
   "metadata": {},
   "outputs": [],
   "source": [
    "complex_model = smf.ols(formula='Income ~ Education + C(AgeType)', data=income_data).fit()"
   ]
  },
  {
   "cell_type": "code",
   "execution_count": 63,
   "metadata": {},
   "outputs": [
    {
     "data": {
      "text/plain": [
       "Intercept            -39.810815\n",
       "C(AgeType)[T.True]    20.328567\n",
       "Education              5.472944\n",
       "dtype: float64"
      ]
     },
     "execution_count": 63,
     "metadata": {},
     "output_type": "execute_result"
    }
   ],
   "source": [
    "complex_model.params"
   ]
  },
  {
   "cell_type": "code",
   "execution_count": 64,
   "metadata": {},
   "outputs": [
    {
     "name": "stdout",
     "output_type": "stream",
     "text": [
      "                            OLS Regression Results                            \n",
      "==============================================================================\n",
      "Dep. Variable:                 Income   R-squared:                       0.931\n",
      "Model:                            OLS   Adj. R-squared:                  0.926\n",
      "Method:                 Least Squares   F-statistic:                     182.8\n",
      "Date:                Wed, 10 Oct 2018   Prob (F-statistic):           2.02e-16\n",
      "Time:                        15:51:22   Log-Likelihood:                -100.80\n",
      "No. Observations:                  30   AIC:                             207.6\n",
      "Df Residuals:                      27   BIC:                             211.8\n",
      "Df Model:                           2                                         \n",
      "Covariance Type:            nonrobust                                         \n",
      "======================================================================================\n",
      "                         coef    std err          t      P>|t|      [0.025      0.975]\n",
      "--------------------------------------------------------------------------------------\n",
      "Intercept            -39.8108      6.022     -6.611      0.000     -52.167     -27.455\n",
      "C(AgeType)[T.True]    20.3286      2.969      6.847      0.000      14.236      26.421\n",
      "Education              5.4729      0.382     14.331      0.000       4.689       6.257\n",
      "==============================================================================\n",
      "Omnibus:                        0.086   Durbin-Watson:                   2.427\n",
      "Prob(Omnibus):                  0.958   Jarque-Bera (JB):                0.048\n",
      "Skew:                          -0.047   Prob(JB):                        0.976\n",
      "Kurtosis:                       2.829   Cond. No.                         75.9\n",
      "==============================================================================\n",
      "\n",
      "Warnings:\n",
      "[1] Standard Errors assume that the covariance matrix of the errors is correctly specified.\n"
     ]
    }
   ],
   "source": [
    "print(complex_model.summary())"
   ]
  },
  {
   "cell_type": "code",
   "execution_count": 65,
   "metadata": {},
   "outputs": [
    {
     "data": {
      "text/plain": [
       "Intercept             4.302612e-07\n",
       "C(AgeType)[T.True]    2.350913e-07\n",
       "Education             3.862146e-14\n",
       "dtype: float64"
      ]
     },
     "execution_count": 65,
     "metadata": {},
     "output_type": "execute_result"
    }
   ],
   "source": [
    "complex_model.pvalues"
   ]
  },
  {
   "cell_type": "code",
   "execution_count": null,
   "metadata": {},
   "outputs": [],
   "source": []
  }
 ],
 "metadata": {
  "kernelspec": {
   "display_name": "Python 2",
   "language": "python",
   "name": "python2"
  },
  "language_info": {
   "codemirror_mode": {
    "name": "ipython",
    "version": 2
   },
   "file_extension": ".py",
   "mimetype": "text/x-python",
   "name": "python",
   "nbconvert_exporter": "python",
   "pygments_lexer": "ipython2",
   "version": "2.7.15"
  }
 },
 "nbformat": 4,
 "nbformat_minor": 2
}
