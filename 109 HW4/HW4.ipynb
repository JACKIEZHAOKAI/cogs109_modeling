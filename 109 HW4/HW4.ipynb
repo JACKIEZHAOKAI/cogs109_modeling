{
 "cells": [
  {
   "cell_type": "markdown",
   "metadata": {},
   "source": [
    "### 1. ISLR chapter 5, exercise 2 (page 197-198)\n",
    "\n"
   ]
  },
  {
   "cell_type": "markdown",
   "metadata": {
    "ExecuteTime": {
     "end_time": "2018-11-06T17:30:43.727644Z",
     "start_time": "2018-11-06T17:30:43.663721Z"
    }
   },
   "source": [
    "2. We will now derive the probability that a given observation is part\n",
    "of a bootstrap sample. Suppose that we obtain a bootstrap sample\n",
    "from a set of n observations.\n",
    "\n",
    "##### (a) What is the probability that the first bootstrap observation is\n",
    "##### not the jth observation from the original sample? Justify your answer.\n",
    "\n",
    "1−1/n.\n",
    "\n",
    "##### (b) What is the probability that the second bootstrap observation\n",
    "##### is not the jth observation from the original sample?\n",
    "\n",
    "Since we draw with replacement, it is the same as above. So, 1−1/n.\n",
    "\n",
    "\n",
    "##### (c) Argue that the probability that the jth observation is not in the bootstrap sample is (1 − 1/n)n. \n",
    "\n",
    "With replacement, the probability of the jth observation is not in the bootstrap sample but the product of the probabilities, so (1−1/n)⋯(1−1/n)=(1−1/n)n, where as these probabilities are independant.\n",
    "\n",
    "\n",
    "\n",
    "##### (d) When n = 5, what is the probability that the jth observation is in the bootstrap sample?\n",
    "\n",
    "By pluging into the formular,\n",
    "P(5th observation)=1−(1−1/5)^5=0.672.\n",
    "\n",
    "\n",
    "##### (e) When n = 100, what is the probability that the jth observation\n",
    "\n",
    "P(100th observation)=1−(1−1/100)^100=0.634.\n",
    "\n",
    "\n",
    "\n",
    "##### (f) When n = 10, 000, what is the probability that the jth observation\n",
    "##### is in the bootstrap sample?\n",
    "\n",
    "P(10, 000th observation)=1−(1−1/10000)^10000=0.632.\n",
    "\n",
    "\n",
    "\n",
    "##### (g) Create a plot that displays, for each integer value of n from 1 to 100, 000, the probability that the jth observation is in the  bootstrap sample. Comment on what you observe.\n",
    "\n",
    "I observe that the plot quickly reaches an asymptote at about 0.632."
   ]
  },
  {
   "cell_type": "code",
   "execution_count": 2,
   "metadata": {
    "ExecuteTime": {
     "end_time": "2018-11-06T23:49:55.183308Z",
     "start_time": "2018-11-06T23:49:48.034368Z"
    }
   },
   "outputs": [
    {
     "data": {
      "image/png": "[encoded data removed]",
      "text/plain": [
       "<matplotlib.figure.Figure at 0x119197710>"
      ]
     },
     "metadata": {},
     "output_type": "display_data"
    }
   ],
   "source": [
    "import matplotlib.pyplot as plt\n",
    "for x in range (1,100000):\n",
    "    x = float(x)\n",
    "    y = float(1 - (1 - 1/x)*(1 - 1/x))\n",
    "    plt.plot(x, y, 'bo')\n",
    "    plt.xlabel('x')\n",
    "    plt.ylabel('1 - (1 - 1/x)*(1 - 1/x')"
   ]
  },
  {
   "cell_type": "markdown",
   "metadata": {},
   "source": [
    "#### (h) We will now investigate numerically the probability that a bootstrap sample of size n=100 contains the jth observation. Here j=4. We repeatedly create bootstrap samples, and each time we record whether or not the fourth observation is contained in the bootstrap sample."
   ]
  },
  {
   "cell_type": "code",
   "execution_count": 60,
   "metadata": {
    "ExecuteTime": {
     "end_time": "2018-11-07T00:34:41.590402Z",
     "start_time": "2018-11-07T00:34:38.249877Z"
    }
   },
   "outputs": [
    {
     "name": "stdout",
     "output_type": "stream",
     "text": [
      "0.4909\n"
     ]
    }
   ],
   "source": [
    "import pandas as pd\n",
    "import numpy as np\n",
    "store = []\n",
    "for x in range (10000):  \n",
    "    s = pd.Series(np.random.randn(100))\n",
    "    temp = s.sample(n=4,replace=True)\n",
    "    store.append(Tru) if sum(temp)>0 else store.append(0.0)\n",
    "\n",
    "print np.mean(store)\n",
    "\n",
    "#              store[x] = sum(temp)>0 \n",
    "   \n",
    "#     store[i]=sum(s.df.sample(100, replace = true)==4)>0 "
   ]
  },
  {
   "cell_type": "markdown",
   "metadata": {
    "ExecuteTime": {
     "end_time": "2018-10-19T05:02:14.048679Z",
     "start_time": "2018-10-19T05:02:14.037988Z"
    }
   },
   "source": [
    "### 2. ISLR chapter 4, exercise 6\n",
    "a)\n",
    "\n",
    "p̂ (X)= e ^(−6+0.05X1+X2) / (1 + e ^ (−6+0.05X1+X2) ) = 0.3775.\n",
    "\n",
    "so the prob for a student who studies for 40 hours and has an undergrad GPA of 3.5 gets an A in the class is 0.3775\n",
    "\n",
    "b)\n",
    "So we set p̂ (X) to be 0.5\n",
    "\n",
    "e ^ (−6+0.05X1+3.5) / (1 + e ^ (−6+0.05X1+X2) ) = 0.5,\n",
    "\n",
    "So, e−6+0.05X1+3.5=1.\n",
    "\n",
    "Therefore, we get X1=50"
   ]
  },
  {
   "cell_type": "markdown",
   "metadata": {},
   "source": [
    "### 3. ISLR chapter 4, exercise 7\n",
    "\n",
    "when X = 4, by plugging value into the equation, we have\n",
    "\n",
    "p1(4)=  0.8e−(1/72)(4−10)20.8e−(1/72)(4−10)2+0.2e−(1/72)(4−0)2=0.752;\n",
    "\n",
    "so the probability that a company will issue a dividend this year given that its percentage return was X=4 last year is 0.752.\n"
   ]
  },
  {
   "cell_type": "markdown",
   "metadata": {},
   "source": [
    "### 4 coding part\n",
    "Most neurons in the brain develop before you are born and remain with you throughout your life. A\n",
    "small but important part of the brain called the dentate gyrus of the hippocampus continues to create\n",
    "new neurons past birth and into adulthood. These “adult newborn neurons” are thought to be important\n",
    "for creating distinct memories of similar events. In this problem, we will use a recently published data\n",
    "set containing gene expression measurements from single neurons to classify cells by their age. The\n",
    "study by Habib et al. is titled “ Div-Seq: Single-nucleus RNA-Seq reveals dynamics of rare adult\n",
    "newborn neurons ”"
   ]
  },
  {
   "cell_type": "code",
   "execution_count": 210,
   "metadata": {
    "ExecuteTime": {
     "end_time": "2018-10-24T04:59:54.001805Z",
     "start_time": "2018-10-24T04:59:53.969580Z"
    },
    "scrolled": true
   },
   "outputs": [
    {
     "name": "stdout",
     "output_type": "stream",
     "text": [
      "(817, 3)\n",
      "[[ 9.95  6.69  1.  ]\n",
      " [10.54  8.53  1.  ]\n",
      " [ 6.58  8.74  1.  ]\n",
      " ...\n",
      " [ 3.98  6.51  0.  ]\n",
      " [ 4.9   6.16  0.  ]\n",
      " [ 3.38  4.95  0.  ]]\n"
     ]
    }
   ],
   "source": [
    "import matplotlib.pyplot as plt\n",
    "import pandas as pd\n",
    "import numpy as np\n",
    "\n",
    "#read data\n",
    "df = pd.read_csv(\"/Users/xuzhaokai/Desktop/109 HW3 due 10:23/hw3_divseq_data.csv\")\n",
    "data = df.values # pd dataFrate to matrix\n",
    "\n",
    "print data.shape\n",
    "print data"
   ]
  },
  {
   "cell_type": "code",
   "execution_count": 6,
   "metadata": {
    "ExecuteTime": {
     "end_time": "2018-10-23T08:49:50.708479Z",
     "start_time": "2018-10-23T08:49:50.702528Z"
    }
   },
   "outputs": [],
   "source": [
    "Lars2 = data[:,0]\n",
    "Malat1 = data[:,1]\n",
    "mature = data[:,2]"
   ]
  },
  {
   "cell_type": "markdown",
   "metadata": {},
   "source": [
    "#### a. Create a box plot showing the expression level of Lars2 for immature and mature neurons. \n",
    "#### Do the same for Malat1 ."
   ]
  },
  {
   "cell_type": "code",
   "execution_count": 7,
   "metadata": {
    "ExecuteTime": {
     "end_time": "2018-10-23T08:49:59.845469Z",
     "start_time": "2018-10-23T08:49:59.240493Z"
    }
   },
   "outputs": [
    {
     "data": {
      "text/plain": [
       "<matplotlib.axes._subplots.AxesSubplot at 0x1c19bb45d0>"
      ]
     },
     "execution_count": 7,
     "metadata": {},
     "output_type": "execute_result"
    },
    {
     "data": {
      "image/png": "[encoded data removed]",
      "text/plain": [
       "<matplotlib.figure.Figure at 0x106e862d0>"
      ]
     },
     "metadata": {},
     "output_type": "display_data"
    }
   ],
   "source": [
    "df.plot.scatter(\"Lars2\",\"mature\")"
   ]
  },
  {
   "cell_type": "code",
   "execution_count": 8,
   "metadata": {
    "ExecuteTime": {
     "end_time": "2018-10-23T08:50:01.327123Z",
     "start_time": "2018-10-23T08:50:01.007492Z"
    }
   },
   "outputs": [
    {
     "data": {
      "text/plain": [
       "<matplotlib.axes._subplots.AxesSubplot at 0x106c1aa90>"
      ]
     },
     "execution_count": 8,
     "metadata": {},
     "output_type": "execute_result"
    },
    {
     "data": {
      "image/png": "[encoded data removed]",
      "text/plain": [
       "<matplotlib.figure.Figure at 0x106e86350>"
      ]
     },
     "metadata": {},
     "output_type": "display_data"
    }
   ],
   "source": [
    "df.plot.scatter(\"Malat1\",\"mature\")"
   ]
  },
  {
   "cell_type": "markdown",
   "metadata": {
    "ExecuteTime": {
     "end_time": "2018-10-22T18:26:04.909836Z",
     "start_time": "2018-10-22T18:26:04.892885Z"
    }
   },
   "source": [
    "#### b. Based on these plots, comment on whether you expect that \n",
    "#### a classifier could perfectly predict a neuron’s maturity based on Lars2 expression alone.\n",
    "\n",
    "No because there are still a range of overlap between label 0 and label 1\n",
    "for Lars2 from 5 to 8, the classifier can not prefectly predict what the label is \n",
    "only based on Lars2"
   ]
  },
  {
   "cell_type": "markdown",
   "metadata": {},
   "source": [
    "#### c. Fit a logistic regression to predict mature based on Lars2 alone; do not use Malat1 . "
   ]
  },
  {
   "cell_type": "code",
   "execution_count": 67,
   "metadata": {
    "ExecuteTime": {
     "end_time": "2018-10-23T17:14:25.479598Z",
     "start_time": "2018-10-23T17:14:25.281821Z"
    },
    "scrolled": true
   },
   "outputs": [
    {
     "name": "stdout",
     "output_type": "stream",
     "text": [
      "   const  Lars2\n",
      "0    1.0   9.95\n",
      "1    1.0  10.54\n",
      "2    1.0   6.58\n",
      "3    1.0   7.49\n",
      "4    1.0   7.42\n",
      "Optimization terminated successfully.\n",
      "         Current function value: 0.235975\n",
      "         Iterations 9\n",
      "                        Results: Logit\n",
      "===============================================================\n",
      "Model:              Logit            No. Iterations:   9.0000  \n",
      "Dependent Variable: y                Pseudo R-squared: 0.531   \n",
      "Date:               2018-10-23 10:14 AIC:              389.5837\n",
      "No. Observations:   817              BIC:              398.9950\n",
      "Df Model:           1                Log-Likelihood:   -192.79 \n",
      "Df Residuals:       815              LL-Null:          -411.04 \n",
      "Converged:          1.0000           Scale:            1.0000  \n",
      "----------------------------------------------------------------\n",
      "         Coef.    Std.Err.     z      P>|z|    [0.025    0.975] \n",
      "----------------------------------------------------------------\n",
      "const   -17.9775    1.4318  -12.5561  0.0000  -20.7837  -15.1713\n",
      "Lars2     2.5422    0.2085   12.1914  0.0000    2.1335    2.9509\n",
      "===============================================================\n",
      "\n"
     ]
    }
   ],
   "source": [
    "import numpy as np\n",
    "import statsmodels.api as sm # statsmodels library\n",
    "# import statsmodels.formula.api as smf  \n",
    "# same as import statsmodels.api as sm BUT no need to add const\n",
    "\n",
    "#add const to gain intercept\n",
    "Lars2_const = sm.add_constant(df[\"Lars2\"])\n",
    "print(Lars2_const.head())\n",
    "\n",
    "model = sm.Logit(mature,Lars2_const) \n",
    "results = model.fit()\n",
    "print(results.summary2())  "
   ]
  },
  {
   "cell_type": "code",
   "execution_count": 68,
   "metadata": {
    "ExecuteTime": {
     "end_time": "2018-10-23T17:14:31.397688Z",
     "start_time": "2018-10-23T17:14:31.386739Z"
    }
   },
   "outputs": [
    {
     "name": "stdout",
     "output_type": "stream",
     "text": [
      "const    3.679364e-36\n",
      "Lars2    3.455778e-34\n",
      "dtype: float64\n"
     ]
    }
   ],
   "source": [
    "print(results.pvalues)"
   ]
  },
  {
   "cell_type": "markdown",
   "metadata": {
    "ExecuteTime": {
     "end_time": "2018-10-23T16:57:23.330998Z",
     "start_time": "2018-10-23T16:57:23.324073Z"
    }
   },
   "source": [
    "What is the p-value for coefficient (slope) of Lars2 ?\n",
    "\n",
    "3.455778e-34\n",
    "\n",
    "What can you infer, i.e. what conclusion can you draw?\n",
    "\n",
    "since the p - value( the prob that we would observe the data if H0 were true ) is small,\n",
    "p<0.05, we can draw the conclustion that there is a very strong positive relation between Lars2 and mature\n"
   ]
  },
  {
   "cell_type": "markdown",
   "metadata": {},
   "source": [
    "#### d. Using your model, calculate the predicted probability that each neuron is mature, i.e.\n",
    "#### p = P(mature | Lars2) . Make a plot showing Lars2 on the x-axis vs. p on the y-axis. \n",
    "#### The plot should have a sigmoid shape. \n"
   ]
  },
  {
   "cell_type": "code",
   "execution_count": 198,
   "metadata": {
    "ExecuteTime": {
     "end_time": "2018-10-24T04:49:18.560803Z",
     "start_time": "2018-10-24T04:49:18.212457Z"
    }
   },
   "outputs": [
    {
     "data": {
      "text/plain": [
       "<matplotlib.text.Text at 0x1c1e0c1390>"
      ]
     },
     "execution_count": 198,
     "metadata": {},
     "output_type": "execute_result"
    },
    {
     "data": {
      "image/png": "[encoded data removed]",
      "text/plain": [
       "<matplotlib.figure.Figure at 0x1c1df82610>"
      ]
     },
     "metadata": {},
     "output_type": "display_data"
    }
   ],
   "source": [
    "import numpy as np\n",
    "import statsmodels.api as sm \n",
    "import matplotlib.pyplot as plt\n",
    "\n",
    "mature_predict = results.predict(Lars2_const)\n",
    "\n",
    "plt.plot(Lars2, mature_predict, 'ro')\n",
    "plt.plot(Lars2, mature, 'bo')\n",
    "plt.xlabel(\"Lars2\")\n",
    "plt.ylabel(\"mature\")\n",
    "plt.title (\" Lars2 VS mature using Logistic Reg \")"
   ]
  },
  {
   "cell_type": "markdown",
   "metadata": {},
   "source": [
    "#### Based on this plot, what prediction would you make for the maturity of a cell with Lars2 = 8?\n",
    "\n",
    "when Lars2 = 8, we predict the mature to be 1, which means true "
   ]
  },
  {
   "cell_type": "markdown",
   "metadata": {},
   "source": [
    "#### e. Use a Bayesian classification criterion to predict, for each cell, whether or not it is mature. "
   ]
  },
  {
   "cell_type": "code",
   "execution_count": 199,
   "metadata": {
    "ExecuteTime": {
     "end_time": "2018-10-24T04:49:20.726045Z",
     "start_time": "2018-10-24T04:49:20.693554Z"
    },
    "scrolled": true
   },
   "outputs": [
    {
     "name": "stdout",
     "output_type": "stream",
     "text": [
      "mature_size:  165\n",
      "mature that are correctly predicted  108\n",
      " the fraction of mature cells that are correctly classified as mature is\n",
      "65.4545454545 %\n"
     ]
    }
   ],
   "source": [
    "# Recall that a Bayesian classifier chooses the most likely category; in this case, that means that it\n",
    "# should predict “mature” whenever . Using these predictions, P(mature | Lars2) > 0.5 compute the\n",
    "# sensitivity of your classifier, i.e. the fraction of mature cells that are correctly classified as\n",
    "# mature.\n",
    "\n",
    "predict_label_list = []\n",
    "\n",
    "for item in mature_predict:\n",
    "    if item < 0.5:\n",
    "        predict_label_list.append(0)\n",
    "    else:\n",
    "        predict_label_list.append(1)\n",
    "\n",
    "mature_counter=0\n",
    "mature_size = 0 \n",
    "size = len(predict_label_list)\n",
    "for i in range(size):\n",
    "    if mature[i] == 1:\n",
    "        mature_size+=1\n",
    "    if predict_label_list[i] == mature[i] and  mature[i] ==1:\n",
    "        mature_counter += 1\n",
    "        \n",
    "print \"mature_size: \", mature_size\n",
    "print \"mature that are correctly predicted \", mature_counter\n",
    "print \" the fraction of mature cells that are correctly classified as mature is\"\n",
    "print float(mature_counter)/float(mature_size) *100,\"%\""
   ]
  },
  {
   "cell_type": "markdown",
   "metadata": {},
   "source": [
    "#### f. Compute the specificity of your classifier, "
   ]
  },
  {
   "cell_type": "code",
   "execution_count": 200,
   "metadata": {
    "ExecuteTime": {
     "end_time": "2018-10-24T04:49:23.770522Z",
     "start_time": "2018-10-24T04:49:23.746767Z"
    },
    "scrolled": true
   },
   "outputs": [
    {
     "name": "stdout",
     "output_type": "stream",
     "text": [
      "immature_size:  652\n",
      "immature that are correctly predicted  616\n",
      " the fraction of immature cells that are correctly classified as immature is\n",
      "94.4785276074 %\n"
     ]
    }
   ],
   "source": [
    "#i.e. the fraction of immature cells that are correctly classified as immature.\n",
    "\n",
    "immature_counter=0\n",
    "immature_size = 0 \n",
    "size = len(predict_label_list)\n",
    "for i in range(size):\n",
    "    if mature[i] == 0:\n",
    "        immature_size+=1\n",
    "    if predict_label_list[i] == mature[i] and  mature[i] ==0:\n",
    "        immature_counter += 1\n",
    "        \n",
    "print \"immature_size: \", immature_size\n",
    "print \"immature that are correctly predicted \", immature_counter\n",
    "\n",
    "print \" the fraction of immature cells that are correctly classified as immature is\"\n",
    "print float(immature_counter)/float(immature_size) *100,\"%\"\n",
    "\n"
   ]
  },
  {
   "cell_type": "markdown",
   "metadata": {},
   "source": [
    "#### g Try predicting the maturity level for each cell with a threshold of 20%, "
   ]
  },
  {
   "cell_type": "code",
   "execution_count": 201,
   "metadata": {
    "ExecuteTime": {
     "end_time": "2018-10-24T04:49:25.894882Z",
     "start_time": "2018-10-24T04:49:25.835119Z"
    }
   },
   "outputs": [
    {
     "name": "stdout",
     "output_type": "stream",
     "text": [
      "mature_size:  165\n",
      "mature that are correctly predicted  150\n",
      " sensitivity == the fraction of mature cells that are correctly classified as mature is\n",
      "90.9090909091 %\n",
      "\n",
      "\n",
      "immature_size:  652\n",
      "immature that are correctly predicted  566\n",
      " specificity == the fraction of immature cells that are correctly classified as immature is\n",
      "86.8098159509 %\n"
     ]
    }
   ],
   "source": [
    "# i.e. predict mature whenever P(mature | Lars2) > 0.2 . What are the sensitivity and specificity? \n",
    "\n",
    "predict_label_list = []\n",
    "\n",
    "for item in mature_predict:\n",
    "    if item < 0.2:\n",
    "        predict_label_list.append(0)\n",
    "    else:\n",
    "        predict_label_list.append(1)\n",
    "\n",
    "mature_counter=0\n",
    "mature_size = 0 \n",
    "size = len(predict_label_list)\n",
    "for i in range(size):\n",
    "    if mature[i] == 1:\n",
    "        mature_size+=1\n",
    "    if predict_label_list[i] == mature[i] and  mature[i] ==1:\n",
    "        mature_counter += 1\n",
    "        \n",
    "print \"mature_size: \", mature_size\n",
    "print \"mature that are correctly predicted \", mature_counter\n",
    "print \" sensitivity == the fraction of mature cells that are correctly classified as mature is\"\n",
    "print float(mature_counter)/float(mature_size) *100,\"%\"\n",
    "\n",
    "immature_counter=0\n",
    "immature_size = 0 \n",
    "size = len(predict_label_list)\n",
    "for i in range(size):\n",
    "    if mature[i] == 0:\n",
    "        immature_size+=1\n",
    "    if predict_label_list[i] == mature[i] and  mature[i] ==0:\n",
    "        immature_counter += 1\n",
    "        \n",
    "print \"\\n\\nimmature_size: \", immature_size\n",
    "print \"immature that are correctly predicted \", immature_counter\n",
    "\n",
    "print \" specificity == the fraction of immature cells that are correctly classified as immature is\"\n",
    "print float(immature_counter)/float(immature_size) *100,\"%\""
   ]
  },
  {
   "cell_type": "markdown",
   "metadata": {},
   "source": [
    "#### g. Explain why the sensitivity is increased, while the specificity is decreased. \n",
    "\n",
    "By observing the previously printed diagram. The sensitivity is increased, while the specificity is decreased \n",
    "is mainly a result of the distribution of the data.\n",
    "\n",
    "if we set the threshold to be 0.5,\n",
    "then a huge number of the mature data are misclassified to be immature,\n",
    "\n",
    "while the immature data are mostly predicted correctly.\n",
    "This results in a low sensitivity and a high specificity\n",
    "\n",
    "\n",
    "And if we set the threshold to be 0.2\n",
    "then the theshold is moving a bit left, so that less mature data are misclassified,\n",
    "\n",
    "while a little bit more immature data  are misclassified.\n",
    "This resulte in a much higher sensitivity and a bit lower specificity\n",
    "\n",
    "\n",
    "From this experiment, we notice that there is a trade-off while selecting the threshold \n",
    "Neither too large nor too small will not be good for the overall prediction.\n",
    "\n",
    "#### In what circumstance might you prefer to use this classification threshold (20%) \n",
    "#### instead of the Bayesian threshold (50%)?\n",
    "\n",
    "When the distribution of matual data is mainly located on the right of threshold 20%\n",
    "and the distribution of immatual data is mainly located on the left of the threshold 20%,\n",
    "we prefer to have a threshold(20%) that will leads to a higher sensitivity and specificity\n"
   ]
  },
  {
   "cell_type": "markdown",
   "metadata": {},
   "source": [
    "#### h. Now we will incorporate data from both genes to try to improve our prediction."
   ]
  },
  {
   "cell_type": "code",
   "execution_count": 221,
   "metadata": {
    "ExecuteTime": {
     "end_time": "2018-10-24T05:14:43.756190Z",
     "start_time": "2018-10-24T05:14:43.241712Z"
    }
   },
   "outputs": [
    {
     "ename": "ValueError",
     "evalue": "x and y must have same first dimension, but have shapes (165,) and (652,)",
     "output_type": "error",
     "traceback": [
      "\u001b[0;31m---------------------------------------------------------------------------\u001b[0m",
      "\u001b[0;31mValueError\u001b[0m                                Traceback (most recent call last)",
      "\u001b[0;32m<ipython-input-221-855e68ffd9a9>\u001b[0m in \u001b[0;36m<module>\u001b[0;34m()\u001b[0m\n\u001b[1;32m     19\u001b[0m \u001b[0mimmature_list\u001b[0m \u001b[0;34m=\u001b[0m \u001b[0mnp\u001b[0m\u001b[0;34m.\u001b[0m\u001b[0marray\u001b[0m\u001b[0;34m(\u001b[0m\u001b[0mimmature_list\u001b[0m\u001b[0;34m)\u001b[0m\u001b[0;34m\u001b[0m\u001b[0m\n\u001b[1;32m     20\u001b[0m \u001b[0;34m\u001b[0m\u001b[0m\n\u001b[0;32m---> 21\u001b[0;31m \u001b[0mplt\u001b[0m\u001b[0;34m.\u001b[0m\u001b[0mplot\u001b[0m\u001b[0;34m(\u001b[0m\u001b[0mmature_list\u001b[0m\u001b[0;34m[\u001b[0m\u001b[0;34m:\u001b[0m\u001b[0;34m,\u001b[0m\u001b[0;36m0\u001b[0m\u001b[0;34m]\u001b[0m\u001b[0;34m,\u001b[0m \u001b[0mimmature_list\u001b[0m\u001b[0;34m[\u001b[0m\u001b[0;34m:\u001b[0m\u001b[0;34m,\u001b[0m\u001b[0;36m1\u001b[0m\u001b[0;34m]\u001b[0m\u001b[0;34m,\u001b[0m \u001b[0;34m'o'\u001b[0m\u001b[0;34m,\u001b[0m \u001b[0mcolor\u001b[0m\u001b[0;34m=\u001b[0m\u001b[0;34m'blue'\u001b[0m\u001b[0;34m)\u001b[0m\u001b[0;34m;\u001b[0m\u001b[0;34m\u001b[0m\u001b[0m\n\u001b[0m\u001b[1;32m     22\u001b[0m \u001b[0mplt\u001b[0m\u001b[0;34m.\u001b[0m\u001b[0mplot\u001b[0m\u001b[0;34m(\u001b[0m\u001b[0mmature_list\u001b[0m\u001b[0;34m[\u001b[0m\u001b[0;34m:\u001b[0m\u001b[0;34m,\u001b[0m\u001b[0;36m0\u001b[0m\u001b[0;34m]\u001b[0m\u001b[0;34m,\u001b[0m \u001b[0mimmature_list\u001b[0m\u001b[0;34m[\u001b[0m\u001b[0;34m:\u001b[0m\u001b[0;34m,\u001b[0m\u001b[0;36m1\u001b[0m\u001b[0;34m]\u001b[0m\u001b[0;34m,\u001b[0m \u001b[0;34m'o'\u001b[0m\u001b[0;34m,\u001b[0m \u001b[0mcolor\u001b[0m\u001b[0;34m=\u001b[0m\u001b[0;34m'red'\u001b[0m\u001b[0;34m)\u001b[0m\u001b[0;34m;\u001b[0m\u001b[0;34m\u001b[0m\u001b[0m\n\u001b[1;32m     23\u001b[0m \u001b[0mplt\u001b[0m\u001b[0;34m.\u001b[0m\u001b[0mxlabel\u001b[0m\u001b[0;34m(\u001b[0m\u001b[0;34m\"Malat1\"\u001b[0m\u001b[0;34m)\u001b[0m\u001b[0;34m\u001b[0m\u001b[0m\n",
      "\u001b[0;32m/Users/xuzhaokai/anaconda2/lib/python2.7/site-packages/matplotlib/pyplot.pyc\u001b[0m in \u001b[0;36mplot\u001b[0;34m(*args, **kwargs)\u001b[0m\n\u001b[1;32m   3315\u001b[0m                       mplDeprecation)\n\u001b[1;32m   3316\u001b[0m     \u001b[0;32mtry\u001b[0m\u001b[0;34m:\u001b[0m\u001b[0;34m\u001b[0m\u001b[0m\n\u001b[0;32m-> 3317\u001b[0;31m         \u001b[0mret\u001b[0m \u001b[0;34m=\u001b[0m \u001b[0max\u001b[0m\u001b[0;34m.\u001b[0m\u001b[0mplot\u001b[0m\u001b[0;34m(\u001b[0m\u001b[0;34m*\u001b[0m\u001b[0margs\u001b[0m\u001b[0;34m,\u001b[0m \u001b[0;34m**\u001b[0m\u001b[0mkwargs\u001b[0m\u001b[0;34m)\u001b[0m\u001b[0;34m\u001b[0m\u001b[0m\n\u001b[0m\u001b[1;32m   3318\u001b[0m     \u001b[0;32mfinally\u001b[0m\u001b[0;34m:\u001b[0m\u001b[0;34m\u001b[0m\u001b[0m\n\u001b[1;32m   3319\u001b[0m         \u001b[0max\u001b[0m\u001b[0;34m.\u001b[0m\u001b[0m_hold\u001b[0m \u001b[0;34m=\u001b[0m \u001b[0mwashold\u001b[0m\u001b[0;34m\u001b[0m\u001b[0m\n",
      "\u001b[0;32m/Users/xuzhaokai/anaconda2/lib/python2.7/site-packages/matplotlib/__init__.pyc\u001b[0m in \u001b[0;36minner\u001b[0;34m(ax, *args, **kwargs)\u001b[0m\n\u001b[1;32m   1896\u001b[0m                     warnings.warn(msg % (label_namer, func.__name__),\n\u001b[1;32m   1897\u001b[0m                                   RuntimeWarning, stacklevel=2)\n\u001b[0;32m-> 1898\u001b[0;31m             \u001b[0;32mreturn\u001b[0m \u001b[0mfunc\u001b[0m\u001b[0;34m(\u001b[0m\u001b[0max\u001b[0m\u001b[0;34m,\u001b[0m \u001b[0;34m*\u001b[0m\u001b[0margs\u001b[0m\u001b[0;34m,\u001b[0m \u001b[0;34m**\u001b[0m\u001b[0mkwargs\u001b[0m\u001b[0;34m)\u001b[0m\u001b[0;34m\u001b[0m\u001b[0m\n\u001b[0m\u001b[1;32m   1899\u001b[0m         \u001b[0mpre_doc\u001b[0m \u001b[0;34m=\u001b[0m \u001b[0minner\u001b[0m\u001b[0;34m.\u001b[0m\u001b[0m__doc__\u001b[0m\u001b[0;34m\u001b[0m\u001b[0m\n\u001b[1;32m   1900\u001b[0m         \u001b[0;32mif\u001b[0m \u001b[0mpre_doc\u001b[0m \u001b[0;32mis\u001b[0m \u001b[0mNone\u001b[0m\u001b[0;34m:\u001b[0m\u001b[0;34m\u001b[0m\u001b[0m\n",
      "\u001b[0;32m/Users/xuzhaokai/anaconda2/lib/python2.7/site-packages/matplotlib/axes/_axes.pyc\u001b[0m in \u001b[0;36mplot\u001b[0;34m(self, *args, **kwargs)\u001b[0m\n\u001b[1;32m   1404\u001b[0m         \u001b[0mkwargs\u001b[0m \u001b[0;34m=\u001b[0m \u001b[0mcbook\u001b[0m\u001b[0;34m.\u001b[0m\u001b[0mnormalize_kwargs\u001b[0m\u001b[0;34m(\u001b[0m\u001b[0mkwargs\u001b[0m\u001b[0;34m,\u001b[0m \u001b[0m_alias_map\u001b[0m\u001b[0;34m)\u001b[0m\u001b[0;34m\u001b[0m\u001b[0m\n\u001b[1;32m   1405\u001b[0m \u001b[0;34m\u001b[0m\u001b[0m\n\u001b[0;32m-> 1406\u001b[0;31m         \u001b[0;32mfor\u001b[0m \u001b[0mline\u001b[0m \u001b[0;32min\u001b[0m \u001b[0mself\u001b[0m\u001b[0;34m.\u001b[0m\u001b[0m_get_lines\u001b[0m\u001b[0;34m(\u001b[0m\u001b[0;34m*\u001b[0m\u001b[0margs\u001b[0m\u001b[0;34m,\u001b[0m \u001b[0;34m**\u001b[0m\u001b[0mkwargs\u001b[0m\u001b[0;34m)\u001b[0m\u001b[0;34m:\u001b[0m\u001b[0;34m\u001b[0m\u001b[0m\n\u001b[0m\u001b[1;32m   1407\u001b[0m             \u001b[0mself\u001b[0m\u001b[0;34m.\u001b[0m\u001b[0madd_line\u001b[0m\u001b[0;34m(\u001b[0m\u001b[0mline\u001b[0m\u001b[0;34m)\u001b[0m\u001b[0;34m\u001b[0m\u001b[0m\n\u001b[1;32m   1408\u001b[0m             \u001b[0mlines\u001b[0m\u001b[0;34m.\u001b[0m\u001b[0mappend\u001b[0m\u001b[0;34m(\u001b[0m\u001b[0mline\u001b[0m\u001b[0;34m)\u001b[0m\u001b[0;34m\u001b[0m\u001b[0m\n",
      "\u001b[0;32m/Users/xuzhaokai/anaconda2/lib/python2.7/site-packages/matplotlib/axes/_base.pyc\u001b[0m in \u001b[0;36m_grab_next_args\u001b[0;34m(self, *args, **kwargs)\u001b[0m\n\u001b[1;32m    405\u001b[0m                 \u001b[0;32mreturn\u001b[0m\u001b[0;34m\u001b[0m\u001b[0m\n\u001b[1;32m    406\u001b[0m             \u001b[0;32mif\u001b[0m \u001b[0mlen\u001b[0m\u001b[0;34m(\u001b[0m\u001b[0mremaining\u001b[0m\u001b[0;34m)\u001b[0m \u001b[0;34m<=\u001b[0m \u001b[0;36m3\u001b[0m\u001b[0;34m:\u001b[0m\u001b[0;34m\u001b[0m\u001b[0m\n\u001b[0;32m--> 407\u001b[0;31m                 \u001b[0;32mfor\u001b[0m \u001b[0mseg\u001b[0m \u001b[0;32min\u001b[0m \u001b[0mself\u001b[0m\u001b[0;34m.\u001b[0m\u001b[0m_plot_args\u001b[0m\u001b[0;34m(\u001b[0m\u001b[0mremaining\u001b[0m\u001b[0;34m,\u001b[0m \u001b[0mkwargs\u001b[0m\u001b[0;34m)\u001b[0m\u001b[0;34m:\u001b[0m\u001b[0;34m\u001b[0m\u001b[0m\n\u001b[0m\u001b[1;32m    408\u001b[0m                     \u001b[0;32myield\u001b[0m \u001b[0mseg\u001b[0m\u001b[0;34m\u001b[0m\u001b[0m\n\u001b[1;32m    409\u001b[0m                 \u001b[0;32mreturn\u001b[0m\u001b[0;34m\u001b[0m\u001b[0m\n",
      "\u001b[0;32m/Users/xuzhaokai/anaconda2/lib/python2.7/site-packages/matplotlib/axes/_base.pyc\u001b[0m in \u001b[0;36m_plot_args\u001b[0;34m(self, tup, kwargs)\u001b[0m\n\u001b[1;32m    383\u001b[0m             \u001b[0mx\u001b[0m\u001b[0;34m,\u001b[0m \u001b[0my\u001b[0m \u001b[0;34m=\u001b[0m \u001b[0mindex_of\u001b[0m\u001b[0;34m(\u001b[0m\u001b[0mtup\u001b[0m\u001b[0;34m[\u001b[0m\u001b[0;34m-\u001b[0m\u001b[0;36m1\u001b[0m\u001b[0;34m]\u001b[0m\u001b[0;34m)\u001b[0m\u001b[0;34m\u001b[0m\u001b[0m\n\u001b[1;32m    384\u001b[0m \u001b[0;34m\u001b[0m\u001b[0m\n\u001b[0;32m--> 385\u001b[0;31m         \u001b[0mx\u001b[0m\u001b[0;34m,\u001b[0m \u001b[0my\u001b[0m \u001b[0;34m=\u001b[0m \u001b[0mself\u001b[0m\u001b[0;34m.\u001b[0m\u001b[0m_xy_from_xy\u001b[0m\u001b[0;34m(\u001b[0m\u001b[0mx\u001b[0m\u001b[0;34m,\u001b[0m \u001b[0my\u001b[0m\u001b[0;34m)\u001b[0m\u001b[0;34m\u001b[0m\u001b[0m\n\u001b[0m\u001b[1;32m    386\u001b[0m \u001b[0;34m\u001b[0m\u001b[0m\n\u001b[1;32m    387\u001b[0m         \u001b[0;32mif\u001b[0m \u001b[0mself\u001b[0m\u001b[0;34m.\u001b[0m\u001b[0mcommand\u001b[0m \u001b[0;34m==\u001b[0m \u001b[0;34m'plot'\u001b[0m\u001b[0;34m:\u001b[0m\u001b[0;34m\u001b[0m\u001b[0m\n",
      "\u001b[0;32m/Users/xuzhaokai/anaconda2/lib/python2.7/site-packages/matplotlib/axes/_base.pyc\u001b[0m in \u001b[0;36m_xy_from_xy\u001b[0;34m(self, x, y)\u001b[0m\n\u001b[1;32m    242\u001b[0m         \u001b[0;32mif\u001b[0m \u001b[0mx\u001b[0m\u001b[0;34m.\u001b[0m\u001b[0mshape\u001b[0m\u001b[0;34m[\u001b[0m\u001b[0;36m0\u001b[0m\u001b[0;34m]\u001b[0m \u001b[0;34m!=\u001b[0m \u001b[0my\u001b[0m\u001b[0;34m.\u001b[0m\u001b[0mshape\u001b[0m\u001b[0;34m[\u001b[0m\u001b[0;36m0\u001b[0m\u001b[0;34m]\u001b[0m\u001b[0;34m:\u001b[0m\u001b[0;34m\u001b[0m\u001b[0m\n\u001b[1;32m    243\u001b[0m             raise ValueError(\"x and y must have same first dimension, but \"\n\u001b[0;32m--> 244\u001b[0;31m                              \"have shapes {} and {}\".format(x.shape, y.shape))\n\u001b[0m\u001b[1;32m    245\u001b[0m         \u001b[0;32mif\u001b[0m \u001b[0mx\u001b[0m\u001b[0;34m.\u001b[0m\u001b[0mndim\u001b[0m \u001b[0;34m>\u001b[0m \u001b[0;36m2\u001b[0m \u001b[0;32mor\u001b[0m \u001b[0my\u001b[0m\u001b[0;34m.\u001b[0m\u001b[0mndim\u001b[0m \u001b[0;34m>\u001b[0m \u001b[0;36m2\u001b[0m\u001b[0;34m:\u001b[0m\u001b[0;34m\u001b[0m\u001b[0m\n\u001b[1;32m    246\u001b[0m             raise ValueError(\"x and y can be no greater than 2-D, but have \"\n",
      "\u001b[0;31mValueError\u001b[0m: x and y must have same first dimension, but have shapes (165,) and (652,)"
     ]
    },
    {
     "data": {
      "image/png": "[encoded data removed]",
      "text/plain": [
       "<matplotlib.figure.Figure at 0x1c1c006690>"
      ]
     },
     "metadata": {},
     "output_type": "display_data"
    }
   ],
   "source": [
    "#  First, make a scatter plot showing Lars2 expression (x-axis) vs. Malat1 expression (y-axis). \n",
    "# Use a different color and/or plot symbol for cells that are immature and mature. \n",
    "# Make sure to label the axes of the plot and include a legend explaining \n",
    "# which color/symbol corresponds to which condition.\n",
    "\n",
    "import matplotlib.pyplot as plt\n",
    "import numpy as np\n",
    "\n",
    "mature_list = []\n",
    "immature_list = []\n",
    "\n",
    "for item in data:\n",
    "    if item[2] == 1:\n",
    "        mature_list.append(item)\n",
    "    else:\n",
    "        immature_list.append(item)\n",
    "\n",
    "mature_list = np.array(mature_list)\n",
    "immature_list = np.array(immature_list)\n",
    "\n",
    "plt.plot(mature_list[:,0], immature_list[:,1], 'o', color='blue');\n",
    "plt.plot(mature_list[:,0], immature_list[:,1], 'o', color='red');\n",
    "plt.xlabel(\"Malat1\")\n",
    "plt.ylabel(\"mature\")\n",
    "plt.title (\" Malat1 VS mature using Logistic Reg \")\n"
   ]
  },
  {
   "cell_type": "code",
   "execution_count": 203,
   "metadata": {
    "ExecuteTime": {
     "end_time": "2018-10-24T04:50:28.608887Z",
     "start_time": "2018-10-24T04:50:28.544043Z"
    }
   },
   "outputs": [
    {
     "name": "stdout",
     "output_type": "stream",
     "text": [
      "Optimization terminated successfully.\n",
      "         Current function value: 0.196827\n",
      "         Iterations 9\n",
      "Notice that here x1 represents Lars2, and x2 represents Malat1, const is the intercept\n",
      "                        Results: Logit\n",
      "===============================================================\n",
      "Model:              Logit            No. Iterations:   9.0000  \n",
      "Dependent Variable: y                Pseudo R-squared: 0.609   \n",
      "Date:               2018-10-23 21:50 AIC:              327.6150\n",
      "No. Observations:   817              BIC:              341.7320\n",
      "Df Model:           2                Log-Likelihood:   -160.81 \n",
      "Df Residuals:       814              LL-Null:          -411.04 \n",
      "Converged:          1.0000           Scale:            1.0000  \n",
      "----------------------------------------------------------------\n",
      "         Coef.    Std.Err.     z      P>|z|    [0.025    0.975] \n",
      "----------------------------------------------------------------\n",
      "const   -25.5697    2.1775  -11.7428  0.0000  -29.8375  -21.3019\n",
      "x1        2.3119    0.2233   10.3544  0.0000    1.8743    2.7495\n",
      "x2        1.0836    0.1561    6.9413  0.0000    0.7776    1.3895\n",
      "===============================================================\n",
      "\n"
     ]
    }
   ],
   "source": [
    "# i. Fit a logistic regression using both Lars2 and Malat1 as predictors. Print the regression\n",
    "# summary table showing the coefficients, SE, t-statistic and p-value for each term. \n",
    "import numpy as np\n",
    "import statsmodels.api as sm # statsmodels library\n",
    "\n",
    "#add const to gain intercept\n",
    "newdata = data[:,0:2]\n",
    "newdata = sm.add_constant(newdata)\n",
    "\n",
    "model2 = sm.Logit(mature,newdata) \n",
    "result2 = model2.fit()\n",
    "print (\"Notice that here x1 represents Lars2, and x2 represents Malat1, const is the intercept\")\n",
    "print(result2.summary2())  "
   ]
  },
  {
   "cell_type": "markdown",
   "metadata": {},
   "source": [
    "#### Which predictors have a significant effect?\n",
    "\n",
    "Apparently Lars2 has a more significant effect because its coef is larger than the coef of Malat1.\n"
   ]
  },
  {
   "cell_type": "markdown",
   "metadata": {},
   "source": [
    "#### j. Use your new model to predict whether each neuron is mature, using a Bayesian decision threshold,"
   ]
  },
  {
   "cell_type": "code",
   "execution_count": 204,
   "metadata": {
    "ExecuteTime": {
     "end_time": "2018-10-24T04:50:31.436090Z",
     "start_time": "2018-10-24T04:50:31.376255Z"
    }
   },
   "outputs": [
    {
     "name": "stdout",
     "output_type": "stream",
     "text": [
      "mature_size:  165\n",
      "mature that is correctly predicted  120\n",
      " sensitivity == the fraction of mature cells that are correctly classified as mature is\n",
      "72.7272727273 %\n",
      "\n",
      "\n",
      "immature_size:  652\n",
      "immature that is correctly predicted  618\n",
      " specificity == the fraction of immature cells that are correctly classified as immature is\n",
      "94.7852760736 %\n"
     ]
    }
   ],
   "source": [
    "# i.e. P(mature | Malat1, Lars2) > 0.5 . What are the sensitivity and specificity for this\n",
    "# new prediction? \n",
    "\n",
    "\n",
    "new_mature_predict = result2.predict(newdata)\n",
    "\n",
    "new_predict_label_list = []\n",
    "\n",
    "for item in new_mature_predict:\n",
    "    if item < 0.5:\n",
    "        new_predict_label_list.append(0)\n",
    "    else:\n",
    "        new_predict_label_list.append(1)\n",
    "\n",
    "mature_counter=0\n",
    "mature_size = 0 \n",
    "size = len(new_predict_label_list)\n",
    "for i in range(size):\n",
    "    if mature[i] == 1:\n",
    "        mature_size+=1\n",
    "    if new_predict_label_list[i] == mature[i] and  mature[i] ==1:\n",
    "        mature_counter += 1\n",
    "        \n",
    "print \"mature_size: \", mature_size\n",
    "print \"mature that is correctly predicted \", mature_counter\n",
    "print \" sensitivity == the fraction of mature cells that are correctly classified as mature is\"\n",
    "print float(mature_counter)/float(mature_size) *100,\"%\"\n",
    "\n",
    "immature_counter=0\n",
    "immature_size = 0 \n",
    "size = len(new_predict_label_list)\n",
    "for i in range(size):\n",
    "    if mature[i] == 0:\n",
    "        immature_size+=1\n",
    "    if new_predict_label_list[i] == mature[i] and mature[i] ==0:\n",
    "        immature_counter += 1\n",
    "        \n",
    "print \"\\n\\nimmature_size: \", immature_size\n",
    "print \"immature that is correctly predicted \", immature_counter\n",
    "\n",
    "print \" specificity == the fraction of immature cells that are correctly classified as immature is\"\n",
    "print float(immature_counter)/float(immature_size) *100,\"%\"\n"
   ]
  },
  {
   "cell_type": "markdown",
   "metadata": {},
   "source": [
    "#### Compare these values to the sensitivity and specificity you calculated in part (e)\n",
    " \n",
    "In part e, we obtain the \n",
    "sensitivity == 65.4545454545 %\n",
    "and \n",
    "specificity == 94.4785276074 %\n",
    "\n",
    "\n",
    "Now with two factors to predict, we get\n",
    "sensitivity == 72.7272727273 %\n",
    "and \n",
    "specificity == 94.7852760736 %\n",
    "\n",
    "Happily, we improve the specificity slightly and we make a huge improvement on sensitivity.\n",
    "So we can conclude that in most case, build a model with more than one factor to predict should \n",
    "give a better prediction.\n"
   ]
  },
  {
   "cell_type": "code",
   "execution_count": null,
   "metadata": {},
   "outputs": [],
   "source": []
  }
 ],
 "metadata": {
  "kernelspec": {
   "display_name": "Python 2",
   "language": "python",
   "name": "python2"
  },
  "language_info": {
   "codemirror_mode": {
    "name": "ipython",
    "version": 2
   },
   "file_extension": ".py",
   "mimetype": "text/x-python",
   "name": "python",
   "nbconvert_exporter": "python",
   "pygments_lexer": "ipython2",
   "version": "2.7.15"
  },
  "latex_envs": {
   "LaTeX_envs_menu_present": true,
   "autoclose": false,
   "autocomplete": true,
   "bibliofile": "biblio.bib",
   "cite_by": "apalike",
   "current_citInitial": 1,
   "eqLabelWithNumbers": true,
   "eqNumInitial": 1,
   "hotkeys": {
    "equation": "Ctrl-E",
    "itemize": "Ctrl-I"
   },
   "labels_anchors": false,
   "latex_user_defs": false,
   "report_style_numbering": false,
   "user_envs_cfg": false
  },
  "varInspector": {
   "cols": {
    "lenName": 16,
    "lenType": 16,
    "lenVar": 40
   },
   "kernels_config": {
    "python": {
     "delete_cmd_postfix": "",
     "delete_cmd_prefix": "del ",
     "library": "var_list.py",
     "varRefreshCmd": "print(var_dic_list())"
    },
    "r": {
     "delete_cmd_postfix": ") ",
     "delete_cmd_prefix": "rm(",
     "library": "var_list.r",
     "varRefreshCmd": "cat(var_dic_list()) "
    }
   },
   "types_to_exclude": [
    "module",
    "function",
    "builtin_function_or_method",
    "instance",
    "_Feature"
   ],
   "window_display": false
  }
 },
 "nbformat": 4,
 "nbformat_minor": 2
}
