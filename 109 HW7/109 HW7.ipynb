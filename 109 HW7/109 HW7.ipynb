{
 "cells": [
  {
   "cell_type": "markdown",
   "metadata": {},
   "source": [
    "### 1. Two students each run PCA on the same dataset. The dataset has n=100 observations, with p=4 predictors.\n",
    "\n",
    "\n",
    "    a. How many principal components (PCs) are there?\n",
    "    \n",
    "    3 PCs, due to subtrating the mean\n",
    "    \n",
    "    b. Do you expect that the two students will arrive at the same result (i.e. the same PC coefficients,\n",
    "    scores and variances)?\n",
    "    \n",
    "    yes in practical \n",
    "    And No in math, because eigen matrix is not unique \n",
    "    \n",
    "    c. Consider the scree plot (right). Based on this\n",
    "    plot, how many PCs should you consider if you\n",
    "    want to capture >60% of the total data\n",
    "    variance?\n",
    "    \n",
    "    1\n",
    "    \n",
    "    d. How many PCs do you need to capture >80%\n",
    "\n",
    "    2"
   ]
  },
  {
   "cell_type": "markdown",
   "metadata": {
    "ExecuteTime": {
     "end_time": "2018-11-22T23:24:42.575046Z",
     "start_time": "2018-11-22T23:24:42.551019Z"
    }
   },
   "source": [
    "### 2. Extra credit: Consider a dataset with n=100 observations and p=30 predictors. What is the minimum fraction of the total data variance captured by the first PC?\n",
    "\n",
    "1/30"
   ]
  },
  {
   "cell_type": "markdown",
   "metadata": {},
   "source": [
    "### 3. Two of your fellow students each run k-means clustering on the same dataset. They both choose k=4.\n",
    "\n",
    "\n",
    "    a. (2 points) Do you expect that they will both come up with the same clustering? Why or why not?\n",
    "\n",
    "    NO, \n",
    "    Because there may be different local minima, and different k-mean clusters will converge to a different result due to the local minima of sum of distance.\n",
    "\n",
    "    b. (2 points) In your own words, define a local optimum and a global optimum of an objective function. Which of these two best describes the result of k-means clustering?\n",
    "        \n",
    "        Local optimum is at a concave point where neither moving forward nor backword will give a better result. So it is called the the best option locally.\n",
    "        Global optimum is at the best concave point in the entire fucniton where none of the combination of clustering gives a better result.\n",
    "\n",
    "    c. (1 point) Name one strategy the students could use to reduce the random variance in their cluster results.\n",
    "    \n",
    "      Apply brute force to find the global opt.\n",
    "      "
   ]
  },
  {
   "cell_type": "markdown",
   "metadata": {
    "ExecuteTime": {
     "end_time": "2018-11-30T00:00:52.884188Z",
     "start_time": "2018-11-30T00:00:52.868655Z"
    }
   },
   "source": [
    "### Clustering \n",
    "    separate data into groups using similarity \n",
    "\n",
    "    similarity is measured by Eul distance \n",
    "        \n",
    "    Local min: change assignment of clusters a \"litte\" the cost gose up\n",
    "\n",
    "### K-Mean clusstering --> try to min cluster distance \n",
    "    1 pick some k  k=2\n",
    "    2 randomly assign each point to a cluster\n",
    "    3 compute centroid of each cluster \n",
    "    4 assign each point to the closest centroid (compute dist to each centroid)\n",
    "        to calc centroid \n",
    "    5 go to 3 if cluster changes"
   ]
  },
  {
   "cell_type": "markdown",
   "metadata": {},
   "source": [
    "### Q4  LSLR 3. In this problem, you will perform K-means clustering manually, with K = 2, on a small example with n = 6 observations and p = 2 features. The observations are as follows."
   ]
  },
  {
   "cell_type": "code",
   "execution_count": 68,
   "metadata": {
    "ExecuteTime": {
     "end_time": "2018-11-30T00:14:41.773369Z",
     "start_time": "2018-11-30T00:14:41.220114Z"
    }
   },
   "outputs": [
    {
     "data": {
      "image/png": "[encoded data removed]",
      "text/plain": [
       "<matplotlib.figure.Figure at 0x11860cbd0>"
      ]
     },
     "metadata": {},
     "output_type": "display_data"
    }
   ],
   "source": [
    "# (a) Plot the observations.\n",
    "import matplotlib.pyplot as plt\n",
    "import pandas as pd\n",
    "\n",
    "d={1 :[1 ,4],2 :[1 ,3],3 :[0 ,4],4 :[5 ,1],5 :[6 ,2],6 :[4 ,0]}\n",
    "df = pd.DataFrame(d,index=[\"X1\",\"X2\"]).T\n",
    "\n",
    "plt.plot( df[\"X1\"], df[\"X2\"], 'ro')\n",
    "plt.title(\" obseravtion \")\n",
    "plt.xlabel(\" feature 1 \")\n",
    "plt.ylabel(\" feature 2 \")\n",
    "plt.show()"
   ]
  },
  {
   "cell_type": "code",
   "execution_count": 69,
   "metadata": {
    "ExecuteTime": {
     "end_time": "2018-11-30T00:14:42.562153Z",
     "start_time": "2018-11-30T00:14:42.553835Z"
    }
   },
   "outputs": [],
   "source": [
    "def distance(v1,v2):\n",
    "    d=0\n",
    "    for pair in zip(v1,v2):\n",
    "        d+=(pair[0]-pair[1])**2\n",
    "    return d**0.5"
   ]
  },
  {
   "cell_type": "code",
   "execution_count": 70,
   "metadata": {
    "ExecuteTime": {
     "end_time": "2018-11-30T00:14:43.393073Z",
     "start_time": "2018-11-30T00:14:43.386095Z"
    }
   },
   "outputs": [],
   "source": [
    "def calc_centroid( df ):\n",
    "    return [df.mean().X1, df.mean().X2]"
   ]
  },
  {
   "cell_type": "code",
   "execution_count": 80,
   "metadata": {
    "ExecuteTime": {
     "end_time": "2018-11-30T00:18:08.457430Z",
     "start_time": "2018-11-30T00:18:08.444424Z"
    }
   },
   "outputs": [],
   "source": [
    "def clusters():\n",
    "    df1=pd.DataFrame(columns=[\"X1\",\"X2\"])\n",
    "    df2=pd.DataFrame(columns=[\"X1\",\"X2\"])\n",
    "   \n",
    "    #iterate all data, calc distance \n",
    "    for i in df.index:\n",
    "        datapoint = df.loc[i]\n",
    "        d1=distance(centroid1,datapoint)\n",
    "        d2=distance(centroid2,datapoint)\n",
    "        if d1<d2:\n",
    "            df1=df1.append(datapoint)\n",
    "        else:\n",
    "            df2=df2.append(datapoint)\n",
    "            \n",
    "    return df1,df2"
   ]
  },
  {
   "cell_type": "code",
   "execution_count": 94,
   "metadata": {
    "ExecuteTime": {
     "end_time": "2018-11-30T00:26:31.269553Z",
     "start_time": "2018-11-30T00:26:31.240292Z"
    }
   },
   "outputs": [],
   "source": [
    "def plot_centroid(df1,df2):\n",
    "    \n",
    "    centroid1 = calc_centroid(df1)\n",
    "    centroid2 = calc_centroid(df2)\n",
    "\n",
    "    plt.scatter(df1.X1,df1.X2,color=\"r\")\n",
    "    plt.scatter(df2.X1,df2.X2,color = \"b\")\n",
    "\n",
    "    plt.text(centroid1[0],centroid1[1],\"* centroid 1\",color=\"r\")\n",
    "    plt.text(centroid2[0],centroid2[1],\"* centroid 2\",color=\"b\")\n",
    "\n",
    "    print \"centroid1\", centroid1\n",
    "    print \"centroid2\", centroid2\n",
    "\n",
    "    plt.show()"
   ]
  },
  {
   "cell_type": "code",
   "execution_count": 95,
   "metadata": {
    "ExecuteTime": {
     "end_time": "2018-11-30T00:26:51.818329Z",
     "start_time": "2018-11-30T00:26:51.797617Z"
    },
    "scrolled": false
   },
   "outputs": [
    {
     "name": "stdout",
     "output_type": "stream",
     "text": [
      "\n",
      "cluster 1:\n",
      "   X1  X2\n",
      "4   5   1\n",
      "1   1   4\n",
      "6   4   0\n",
      "\n",
      "cluster 1:\n",
      "   X1  X2\n",
      "2   1   3\n",
      "3   0   4\n",
      "5   6   2\n"
     ]
    }
   ],
   "source": [
    "# b) Randomly assign a cluster label to each observation. You can use the sample()\n",
    "# command in R to do this. Report the cluster labels for each observation\n",
    "\n",
    "df1=df.sample(3)\n",
    "df2=df.drop(df1.index)\n",
    "\n",
    "print \"\\ncluster 1:\\n\",df1\n",
    "print \"\\ncluster 1:\\n\",df2"
   ]
  },
  {
   "cell_type": "code",
   "execution_count": 97,
   "metadata": {
    "ExecuteTime": {
     "end_time": "2018-11-30T00:27:26.371093Z",
     "start_time": "2018-11-30T00:27:25.945297Z"
    }
   },
   "outputs": [
    {
     "name": "stdout",
     "output_type": "stream",
     "text": [
      "centroid1 [3.3333333333333335, 1.6666666666666667]\n",
      "centroid2 [2.3333333333333335, 3.0]\n"
     ]
    },
    {
     "data": {
      "image/png": "[encoded data removed]",
      "text/plain": [
       "<matplotlib.figure.Figure at 0x1181eeb10>"
      ]
     },
     "metadata": {},
     "output_type": "display_data"
    }
   ],
   "source": [
    "# c) Compute the centroid for each cluster.\n",
    "plot_centroid(df1,df2)"
   ]
  },
  {
   "cell_type": "code",
   "execution_count": 102,
   "metadata": {
    "ExecuteTime": {
     "end_time": "2018-11-30T00:32:37.065466Z",
     "start_time": "2018-11-30T00:32:36.758395Z"
    },
    "scrolled": true
   },
   "outputs": [
    {
     "name": "stdout",
     "output_type": "stream",
     "text": [
      "centroid1 [0.6666666666666666, 3.6666666666666665]\n",
      "centroid2 [5.0, 1.0]\n"
     ]
    },
    {
     "data": {
      "image/png": "[encoded data removed]",
      "text/plain": [
       "<matplotlib.figure.Figure at 0x1180730d0>"
      ]
     },
     "metadata": {},
     "output_type": "display_data"
    }
   ],
   "source": [
    "#(d) Assign each observation to the centroid to which it is closest, in\n",
    "# terms of Euclidean distance. Report the cluster labels for each observation.\n",
    "df1,df2 = clusters()\n",
    "plot_centroid(df1,df2)"
   ]
  },
  {
   "cell_type": "code",
   "execution_count": 116,
   "metadata": {
    "ExecuteTime": {
     "end_time": "2018-11-30T00:44:13.707627Z",
     "start_time": "2018-11-30T00:44:13.304492Z"
    },
    "scrolled": true
   },
   "outputs": [
    {
     "name": "stdout",
     "output_type": "stream",
     "text": [
      "centroid1 [0.6666666666666666, 3.6666666666666665]\n",
      "centroid2 [5.0, 1.0]\n"
     ]
    },
    {
     "data": {
      "image/png": "[encoded data removed]",
      "text/plain": [
       "<matplotlib.figure.Figure at 0x1186f6f10>"
      ]
     },
     "metadata": {},
     "output_type": "display_data"
    }
   ],
   "source": [
    "# (e) Repeat (c) and (d) until the answers obtained stop changing.\n",
    "\n",
    "while(1):\n",
    "    old_centroid1 = calc_centroid(df1)\n",
    "    old_centroid2 = calc_centroid(df2)\n",
    "    #re calc\n",
    "    df1,df2 = clusters()\n",
    "    new_centroid1 = calc_centroid(df1)\n",
    "    new_centroid2 = calc_centroid(df2)\n",
    "\n",
    "    if (old_centroid1[0] == new_centroid1[0] and old_centroid2[0] == new_centroid2[0]\\\n",
    "       and old_centroid1[1] == new_centroid1[1] and old_centroid2[1] == new_centroid2[1]):\n",
    "        break\n",
    "        \n",
    "plot_centroid(df1,df2)"
   ]
  },
  {
   "cell_type": "code",
   "execution_count": null,
   "metadata": {},
   "outputs": [],
   "source": [
    "#(f) In your plot from (a), color the observations according to the cluster labels obtained.\n"
   ]
  },
  {
   "cell_type": "markdown",
   "metadata": {},
   "source": [
    "### 5. Hierarchical clustering. Using the same dataset as in problem ISLR 10.3 (6 observations, 2 predictors), perform hierarchical clustering."
   ]
  },
  {
   "cell_type": "code",
   "execution_count": 119,
   "metadata": {
    "ExecuteTime": {
     "end_time": "2018-11-30T00:48:06.287800Z",
     "start_time": "2018-11-30T00:48:06.040168Z"
    }
   },
   "outputs": [
    {
     "data": {
      "image/png": "[encoded data removed]",
      "text/plain": [
       "<matplotlib.figure.Figure at 0x1187120d0>"
      ]
     },
     "metadata": {},
     "output_type": "display_data"
    }
   ],
   "source": [
    "#a. (1 point) First use single-linkage clustering and plot the resulting dendrogram.\n",
    "\n",
    "from scipy.cluster.hierarchy import dendrogram, linkage\n",
    "\n",
    "single_linkage = linkage(df, 'single')\n",
    "dn = dendrogram(single_linkage , labels=df.index)\n",
    "plt.show()"
   ]
  },
  {
   "cell_type": "code",
   "execution_count": 121,
   "metadata": {
    "ExecuteTime": {
     "end_time": "2018-11-30T00:48:57.602641Z",
     "start_time": "2018-11-30T00:48:57.338192Z"
    }
   },
   "outputs": [
    {
     "data": {
      "image/png": "[encoded data removed]",
      "text/plain": [
       "<matplotlib.figure.Figure at 0x118534890>"
      ]
     },
     "metadata": {},
     "output_type": "display_data"
    }
   ],
   "source": [
    "#b. (1 point) Plot the dendrogram using complete-linkage clustering.\n",
    "\n",
    "complete_linkage = linkage(df, 'complete')\n",
    "dn = dendrogram(complete_linkage , labels=df.index)\n",
    "plt.show()"
   ]
  },
  {
   "cell_type": "markdown",
   "metadata": {},
   "source": [
    "#### c. (2 points) Do these results generally agree with each other and with the results of k-means clustering? Why or why not?\n",
    "\n",
    "    Yes\n",
    "    Because both of them separate 123 and 456 to differnt clusters. \n",
    "    Also, they all cluster data by distance, and the distance between two clusteres is far."
   ]
  }
 ],
 "metadata": {
  "kernelspec": {
   "display_name": "Python 2",
   "language": "python",
   "name": "python2"
  },
  "language_info": {
   "codemirror_mode": {
    "name": "ipython",
    "version": 2
   },
   "file_extension": ".py",
   "mimetype": "text/x-python",
   "name": "python",
   "nbconvert_exporter": "python",
   "pygments_lexer": "ipython2",
   "version": "2.7.15"
  },
  "latex_envs": {
   "LaTeX_envs_menu_present": true,
   "autoclose": false,
   "autocomplete": true,
   "bibliofile": "biblio.bib",
   "cite_by": "apalike",
   "current_citInitial": 1,
   "eqLabelWithNumbers": true,
   "eqNumInitial": 1,
   "hotkeys": {
    "equation": "Ctrl-E",
    "itemize": "Ctrl-I"
   },
   "labels_anchors": false,
   "latex_user_defs": false,
   "report_style_numbering": false,
   "user_envs_cfg": false
  },
  "varInspector": {
   "cols": {
    "lenName": 16,
    "lenType": 16,
    "lenVar": 40
   },
   "kernels_config": {
    "python": {
     "delete_cmd_postfix": "",
     "delete_cmd_prefix": "del ",
     "library": "var_list.py",
     "varRefreshCmd": "print(var_dic_list())"
    },
    "r": {
     "delete_cmd_postfix": ") ",
     "delete_cmd_prefix": "rm(",
     "library": "var_list.r",
     "varRefreshCmd": "cat(var_dic_list()) "
    }
   },
   "types_to_exclude": [
    "module",
    "function",
    "builtin_function_or_method",
    "instance",
    "_Feature"
   ],
   "window_display": false
  }
 },
 "nbformat": 4,
 "nbformat_minor": 2
}
