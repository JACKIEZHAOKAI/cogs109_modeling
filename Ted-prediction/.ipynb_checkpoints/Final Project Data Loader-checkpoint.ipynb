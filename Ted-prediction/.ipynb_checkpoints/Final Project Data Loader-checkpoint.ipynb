{
 "cells": [
  {
   "cell_type": "code",
   "execution_count": 1,
   "metadata": {},
   "outputs": [],
   "source": [
    "import csv\n",
    "import matplotlib.pyplot as plt\n",
    "import numpy as np\n",
    "import sklearn\n",
    "import pandas as pd\n",
    "import pickle"
   ]
  },
  {
   "cell_type": "code",
   "execution_count": 2,
   "metadata": {},
   "outputs": [],
   "source": [
    "# LOAD data"
   ]
  },
  {
   "cell_type": "code",
   "execution_count": 4,
   "metadata": {},
   "outputs": [],
   "source": [
    "teds = pd.read_csv('ted_main.csv',header=0)\n",
    "transcripts = pd.read_csv('transcripts.csv',header=0)"
   ]
  },
  {
   "cell_type": "code",
   "execution_count": 5,
   "metadata": {},
   "outputs": [
    {
     "name": "stdout",
     "output_type": "stream",
     "text": [
      "2550\n"
     ]
    }
   ],
   "source": [
    "print(len(teds))"
   ]
  },
  {
   "cell_type": "code",
   "execution_count": 6,
   "metadata": {},
   "outputs": [],
   "source": [
    "teds_keys = [k for k in teds]\n",
    "transcripts_keys = [k for k in transcripts]"
   ]
  },
  {
   "cell_type": "code",
   "execution_count": 7,
   "metadata": {},
   "outputs": [
    {
     "name": "stdout",
     "output_type": "stream",
     "text": [
      "['comments', 'description', 'duration', 'event', 'film_date', 'languages', 'main_speaker', 'name', 'num_speaker', 'published_date', 'ratings', 'related_talks', 'speaker_occupation', 'tags', 'title', 'url', 'views']\n",
      "['transcript', 'url']\n"
     ]
    }
   ],
   "source": [
    "print(teds_keys)\n",
    "print(transcripts_keys)"
   ]
  },
  {
   "cell_type": "code",
   "execution_count": 8,
   "metadata": {},
   "outputs": [],
   "source": [
    "# ALLIGN data"
   ]
  },
  {
   "cell_type": "code",
   "execution_count": 9,
   "metadata": {},
   "outputs": [],
   "source": [
    "tmp_url_list = []\n",
    "tmp_x_list = []\n",
    "for i in range(len(transcripts)):\n",
    "    tmp_url_list.append(transcripts['url'][i])\n",
    "    tmp_x_list.append(transcripts['transcript'][i])"
   ]
  },
  {
   "cell_type": "code",
   "execution_count": 10,
   "metadata": {},
   "outputs": [],
   "source": [
    "data1 = []\n",
    "non_align = 0\n",
    "for i in range(len(teds)):\n",
    "    dt = {}\n",
    "    for k in teds_keys:\n",
    "        if k in 'description event main_speaker name title url speaker_occupation'.split():\n",
    "            dt[k] = teds[k][i]\n",
    "        elif k in 'ratings related_talks tags'.split():\n",
    "            dt[k] = eval(teds[k][i])\n",
    "        else:\n",
    "            dt[k] = int(teds[k][i])\n",
    "        if k == 'url':\n",
    "            try:\n",
    "                j = tmp_url_list.index(teds[k][i])\n",
    "                dt['transcripts'] = tmp_x_list[j]\n",
    "            except:\n",
    "                non_align = non_align + 1\n",
    "    data1.append(dt)"
   ]
  },
  {
   "cell_type": "code",
   "execution_count": 11,
   "metadata": {},
   "outputs": [
    {
     "name": "stdout",
     "output_type": "stream",
     "text": [
      "2550\n",
      "2464\n"
     ]
    }
   ],
   "source": [
    "print(len(data1))\n",
    "data2 = [d for d in data1 if 'transcripts' in d]\n",
    "print(len(data2))"
   ]
  },
  {
   "cell_type": "code",
   "execution_count": 12,
   "metadata": {},
   "outputs": [
    {
     "name": "stdout",
     "output_type": "stream",
     "text": [
      "{'Fascinating', 'Inspiring', 'Confusing', 'OK', 'Ingenious', 'Jaw-dropping', 'Funny', 'Persuasive', 'Longwinded', 'Beautiful', 'Unconvincing', 'Obnoxious', 'Courageous', 'Informative'}\n",
      "14\n"
     ]
    }
   ],
   "source": [
    "# Build rating dictionaries\n",
    "rating_dictionary = set()\n",
    "for d in data2:\n",
    "    ratings = d['ratings']\n",
    "    for r in ratings:\n",
    "        rating_dictionary.add(r['name'])\n",
    "print(rating_dictionary)\n",
    "print(len(rating_dictionary))\n",
    "for d in data2:\n",
    "    ratings = d['ratings']\n",
    "    rate_dict = {}\n",
    "    rate_sum = 0\n",
    "    rating_rank = []\n",
    "    for r in ratings:\n",
    "        rate_dict[r['name']] = r['count']\n",
    "        rate_sum = rate_sum + r['count']\n",
    "    rate_percentage = {}\n",
    "    for r in rating_dictionary:\n",
    "        if r not in rate_dict:\n",
    "            rate_dict[r] = 0\n",
    "        rate_percentage[r] = rate_dict[r]/rate_sum\n",
    "        rating_rank.append([rate_dict[r], r])\n",
    "    d['rate_dict']=rate_dict\n",
    "    d['rate_percentage']=rate_percentage\n",
    "    rating_rank=sorted(rating_rank, reverse=True)\n",
    "    rating_rank=[y for x,y in rating_rank]\n",
    "    d['rate_rank']=rating_rank"
   ]
  },
  {
   "cell_type": "code",
   "execution_count": 13,
   "metadata": {},
   "outputs": [
    {
     "name": "stdout",
     "output_type": "stream",
     "text": [
      "{'Fascinating': 10581, 'Inspiring': 24924, 'Confusing': 242, 'Ingenious': 6073, 'Obnoxious': 209, 'Jaw-dropping': 4439, 'Funny': 19645, 'OK': 1174, 'Persuasive': 10704, 'Longwinded': 387, 'Beautiful': 4573, 'Courageous': 3253, 'Unconvincing': 300, 'Informative': 7346}\n",
      "['Inspiring', 'Funny', 'Persuasive', 'Fascinating', 'Informative', 'Ingenious', 'Beautiful', 'Jaw-dropping', 'Courageous', 'OK', 'Longwinded', 'Unconvincing', 'Confusing', 'Obnoxious']\n"
     ]
    }
   ],
   "source": [
    "print(data2[0]['rate_dict'])\n",
    "print(data2[0]['rate_rank'])"
   ]
  },
  {
   "cell_type": "code",
   "execution_count": 14,
   "metadata": {},
   "outputs": [],
   "source": [
    "with open('ted_data.pkl','wb+') as f:\n",
    "    pickle.dump(data2, f)"
   ]
  },
  {
   "cell_type": "code",
   "execution_count": null,
   "metadata": {},
   "outputs": [],
   "source": []
  }
 ],
 "metadata": {
  "kernelspec": {
   "display_name": "Python 2",
   "language": "python",
   "name": "python2"
  },
  "language_info": {
   "codemirror_mode": {
    "name": "ipython",
    "version": 2
   },
   "file_extension": ".py",
   "mimetype": "text/x-python",
   "name": "python",
   "nbconvert_exporter": "python",
   "pygments_lexer": "ipython2",
   "version": "2.7.15"
  },
  "latex_envs": {
   "LaTeX_envs_menu_present": true,
   "autoclose": false,
   "autocomplete": true,
   "bibliofile": "biblio.bib",
   "cite_by": "apalike",
   "current_citInitial": 1,
   "eqLabelWithNumbers": true,
   "eqNumInitial": 1,
   "hotkeys": {
    "equation": "Ctrl-E",
    "itemize": "Ctrl-I"
   },
   "labels_anchors": false,
   "latex_user_defs": false,
   "report_style_numbering": false,
   "user_envs_cfg": false
  },
  "varInspector": {
   "cols": {
    "lenName": 16,
    "lenType": 16,
    "lenVar": 40
   },
   "kernels_config": {
    "python": {
     "delete_cmd_postfix": "",
     "delete_cmd_prefix": "del ",
     "library": "var_list.py",
     "varRefreshCmd": "print(var_dic_list())"
    },
    "r": {
     "delete_cmd_postfix": ") ",
     "delete_cmd_prefix": "rm(",
     "library": "var_list.r",
     "varRefreshCmd": "cat(var_dic_list()) "
    }
   },
   "types_to_exclude": [
    "module",
    "function",
    "builtin_function_or_method",
    "instance",
    "_Feature"
   ],
   "window_display": false
  },
  "widgets": {
   "state": {},
   "version": "1.1.2"
  }
 },
 "nbformat": 4,
 "nbformat_minor": 2
}
