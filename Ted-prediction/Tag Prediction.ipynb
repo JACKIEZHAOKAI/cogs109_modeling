{
 "cells": [
  {
   "cell_type": "code",
   "execution_count": 1,
   "metadata": {
    "ExecuteTime": {
     "end_time": "2018-12-05T05:22:39.749683Z",
     "start_time": "2018-12-05T05:22:31.029854Z"
    }
   },
   "outputs": [],
   "source": [
    "import matplotlib.pyplot as plt\n",
    "import numpy as np\n",
    "import sklearn\n",
    "import pandas as pd"
   ]
  },
  {
   "cell_type": "markdown",
   "metadata": {
    "ExecuteTime": {
     "end_time": "2018-12-04T22:12:35.578462Z",
     "start_time": "2018-12-04T22:12:35.561090Z"
    }
   },
   "source": [
    "## read data, separate into train_val and test"
   ]
  },
  {
   "cell_type": "code",
   "execution_count": 2,
   "metadata": {
    "ExecuteTime": {
     "end_time": "2018-12-05T05:22:40.357720Z",
     "start_time": "2018-12-05T05:22:39.771668Z"
    }
   },
   "outputs": [],
   "source": [
    "teds = pd.read_csv('./data/ted_main.csv',header=0)\n",
    "transcripts = pd.read_csv('./data/transcripts.csv',header=0)"
   ]
  },
  {
   "cell_type": "code",
   "execution_count": 83,
   "metadata": {
    "ExecuteTime": {
     "end_time": "2018-12-05T06:01:25.785399Z",
     "start_time": "2018-12-05T06:01:25.756787Z"
    }
   },
   "outputs": [
    {
     "name": "stdout",
     "output_type": "stream",
     "text": [
      "2000\n",
      "550\n"
     ]
    }
   ],
   "source": [
    "train = teds.sample(2000)\n",
    "test = teds.drop(train_val.index)\n",
    "\n",
    "x_train = train[['duration','comments']]\n",
    "y_train  = train['views']\n",
    "\n",
    "x_test = test[['duration','comments']]\n",
    "y_test = test['views']\n",
    "\n",
    "print len(x_train)\n",
    "print len(x_test)"
   ]
  },
  {
   "cell_type": "code",
   "execution_count": 84,
   "metadata": {
    "ExecuteTime": {
     "end_time": "2018-12-05T06:01:27.260625Z",
     "start_time": "2018-12-05T06:01:26.935127Z"
    }
   },
   "outputs": [
    {
     "name": "stderr",
     "output_type": "stream",
     "text": [
      "/Users/xuzhaokai/anaconda2/lib/python2.7/site-packages/ipykernel_launcher.py:4: SettingWithCopyWarning: \n",
      "A value is trying to be set on a copy of a slice from a DataFrame.\n",
      "Try using .loc[row_indexer,col_indexer] = value instead\n",
      "\n",
      "See the caveats in the documentation: http://pandas.pydata.org/pandas-docs/stable/indexing.html#indexing-view-versus-copy\n",
      "  after removing the cwd from sys.path.\n"
     ]
    },
    {
     "data": {
      "text/html": [
       "<div>\n",
       "<style>\n",
       "    .dataframe thead tr:only-child th {\n",
       "        text-align: right;\n",
       "    }\n",
       "\n",
       "    .dataframe thead th {\n",
       "        text-align: left;\n",
       "    }\n",
       "\n",
       "    .dataframe tbody tr th {\n",
       "        vertical-align: top;\n",
       "    }\n",
       "</style>\n",
       "<table border=\"1\" class=\"dataframe\">\n",
       "  <thead>\n",
       "    <tr style=\"text-align: right;\">\n",
       "      <th></th>\n",
       "      <th>views</th>\n",
       "      <th>duration</th>\n",
       "      <th>rank</th>\n",
       "    </tr>\n",
       "  </thead>\n",
       "  <tbody>\n",
       "    <tr>\n",
       "      <th>0</th>\n",
       "      <td>47227110</td>\n",
       "      <td>1164</td>\n",
       "      <td>2550.0</td>\n",
       "    </tr>\n",
       "    <tr>\n",
       "      <th>1346</th>\n",
       "      <td>43155405</td>\n",
       "      <td>1262</td>\n",
       "      <td>2549.0</td>\n",
       "    </tr>\n",
       "    <tr>\n",
       "      <th>677</th>\n",
       "      <td>34309432</td>\n",
       "      <td>1084</td>\n",
       "      <td>2548.0</td>\n",
       "    </tr>\n",
       "    <tr>\n",
       "      <th>837</th>\n",
       "      <td>31168150</td>\n",
       "      <td>1219</td>\n",
       "      <td>2547.0</td>\n",
       "    </tr>\n",
       "    <tr>\n",
       "      <th>452</th>\n",
       "      <td>22270883</td>\n",
       "      <td>1003</td>\n",
       "      <td>2546.0</td>\n",
       "    </tr>\n",
       "  </tbody>\n",
       "</table>\n",
       "</div>"
      ],
      "text/plain": [
       "         views  duration    rank\n",
       "0     47227110      1164  2550.0\n",
       "1346  43155405      1262  2549.0\n",
       "677   34309432      1084  2548.0\n",
       "837   31168150      1219  2547.0\n",
       "452   22270883      1003  2546.0"
      ]
     },
     "execution_count": 84,
     "metadata": {},
     "output_type": "execute_result"
    }
   ],
   "source": [
    "# 1  durations distribution\n",
    "\n",
    "temp = teds[['views','duration']]\n",
    "temp['rank'] = temp['views'].rank()\n",
    "newtemp = temp.sort_values(\"views\",ascending=False) \n",
    "newtemp.head(5)"
   ]
  },
  {
   "cell_type": "code",
   "execution_count": 85,
   "metadata": {
    "ExecuteTime": {
     "end_time": "2018-12-05T06:01:28.777106Z",
     "start_time": "2018-12-05T06:01:28.764860Z"
    },
    "scrolled": false
   },
   "outputs": [
    {
     "name": "stdout",
     "output_type": "stream",
     "text": [
      "45    22\n",
      "43    20\n",
      "49    20\n",
      "42    20\n",
      "36    20\n",
      "Name: comments, dtype: int64\n"
     ]
    }
   ],
   "source": [
    "# 2  comments distribution \n",
    "comments_dict = teds['comments'].value_counts()\n",
    "print comments_dict.head()"
   ]
  },
  {
   "cell_type": "code",
   "execution_count": 40,
   "metadata": {
    "ExecuteTime": {
     "end_time": "2018-12-05T05:35:33.951429Z",
     "start_time": "2018-12-05T05:35:33.938161Z"
    }
   },
   "outputs": [],
   "source": [
    "def printResult(y_predict,the_y_test):\n",
    "    trueCount = 0 \n",
    "    falseCount = 0 \n",
    "\n",
    "    for i in range(len(the_y_test)):\n",
    "        if ( float(the_y_test.values[i])/y_predict[i] < 1.5 and  float(y_predict[i])/the_y_test.values[i] > 0.67 ):\n",
    "            trueCount += 1\n",
    "        else:\n",
    "            falseCount += 1\n",
    "\n",
    "    print \"True Count: \", trueCount\n",
    "    print \"False Count: \",falseCount\n",
    "    print \"Accuracy: \", float(trueCount)/(trueCount+ falseCount)\n",
    "    return float(trueCount)/(trueCount+ falseCount)"
   ]
  },
  {
   "cell_type": "markdown",
   "metadata": {},
   "source": [
    "## 1. linear regression "
   ]
  },
  {
   "cell_type": "code",
   "execution_count": 41,
   "metadata": {
    "ExecuteTime": {
     "end_time": "2018-12-05T05:35:35.101079Z",
     "start_time": "2018-12-05T05:35:35.073121Z"
    },
    "scrolled": true
   },
   "outputs": [
    {
     "name": "stdout",
     "output_type": "stream",
     "text": [
      "coef:  [-182.9899449 6075.9305726]\n",
      "intercept 703165.5012158614\n",
      "True Count:  466\n",
      "False Count:  84\n",
      "Accuracy:  0.847272727273\n"
     ]
    },
    {
     "data": {
      "text/plain": [
       "0.8472727272727273"
      ]
     },
     "execution_count": 41,
     "metadata": {},
     "output_type": "execute_result"
    }
   ],
   "source": [
    "import numpy as np\n",
    "from sklearn.linear_model import LinearRegression\n",
    "\n",
    "reg = LinearRegression().fit(x_train, y_train)\n",
    "\n",
    "print \"coef: \",reg.coef_\n",
    "print \"intercept\",  reg.intercept_ \n",
    "\n",
    "y_predict = reg.predict(x_test)\n",
    "\n",
    "printResult(y_predict,y_test)"
   ]
  },
  {
   "cell_type": "code",
   "execution_count": 68,
   "metadata": {
    "ExecuteTime": {
     "end_time": "2018-12-05T05:47:43.565279Z",
     "start_time": "2018-12-05T05:47:43.556429Z"
    },
    "scrolled": true
   },
   "outputs": [
    {
     "name": "stdout",
     "output_type": "stream",
     "text": [
      "[782213.1151206233, 710945.5357435186, 1403909.6861775878, 1009638.9982572923, 825324.2173344847]\n",
      "[609087, 779873, 1712075, 643078, 606311]\n"
     ]
    }
   ],
   "source": [
    "predicted = [y_predict[20], y_predict[22], y_predict[30], y_predict[17],y_predict[15]] \n",
    "actural  = [y_test.values[20], y_test.values[22], y_test.values[30], y_test.values[17],y_test.values[15] ]\n",
    "print predicted\n",
    "print actural"
   ]
  },
  {
   "cell_type": "code",
   "execution_count": 70,
   "metadata": {
    "ExecuteTime": {
     "end_time": "2018-12-05T05:48:41.579230Z",
     "start_time": "2018-12-05T05:48:40.866827Z"
    },
    "scrolled": false
   },
   "outputs": [
    {
     "data": {
      "image/png": "[encoded data removed]",
      "text/plain": [
       "<matplotlib.figure.Figure at 0x1a1e8c73d0>"
      ]
     },
     "metadata": {},
     "output_type": "display_data"
    }
   ],
   "source": [
    "import matplotlib.pyplot as plt\n",
    "\n",
    "x =list(range(len( predicted)))\n",
    " \n",
    "total_width, n = 0.8, 2\n",
    "width = total_width / n\n",
    "\n",
    "plt.bar(x,  predicted, width=width, label='predicted',fc = 'y')\n",
    "for i in range(len(x)):\n",
    "    x[i] = x[i] + width\n",
    "plt.bar(x, actural, width=width, label='actural',fc = 'r')\n",
    "plt.legend()\n",
    "plt.xlabel(\"TED talk\")\n",
    "plt.ylabel(\"Number of Reviews\")\n",
    "plt.title ('linear Regression Model Prediction')\n",
    "plt.show()\n"
   ]
  },
  {
   "cell_type": "code",
   "execution_count": 121,
   "metadata": {
    "ExecuteTime": {
     "end_time": "2018-12-05T06:30:17.374388Z",
     "start_time": "2018-12-05T06:30:17.279811Z"
    }
   },
   "outputs": [
    {
     "data": {
      "text/html": [
       "<table class=\"simpletable\">\n",
       "<caption>OLS Regression Results</caption>\n",
       "<tr>\n",
       "  <th>Dep. Variable:</th>            <td>y</td>        <th>  R-squared:         </th> <td>   0.247</td> \n",
       "</tr>\n",
       "<tr>\n",
       "  <th>Model:</th>                   <td>OLS</td>       <th>  Adj. R-squared:    </th> <td>   0.246</td> \n",
       "</tr>\n",
       "<tr>\n",
       "  <th>Method:</th>             <td>Least Squares</td>  <th>  F-statistic:       </th> <td>   327.1</td> \n",
       "</tr>\n",
       "<tr>\n",
       "  <th>Date:</th>             <td>Tue, 04 Dec 2018</td> <th>  Prob (F-statistic):</th> <td>1.35e-123</td>\n",
       "</tr>\n",
       "<tr>\n",
       "  <th>Time:</th>                 <td>22:30:17</td>     <th>  Log-Likelihood:    </th> <td> -31965.</td> \n",
       "</tr>\n",
       "<tr>\n",
       "  <th>No. Observations:</th>      <td>  2000</td>      <th>  AIC:               </th> <td>6.394e+04</td>\n",
       "</tr>\n",
       "<tr>\n",
       "  <th>Df Residuals:</th>          <td>  1997</td>      <th>  BIC:               </th> <td>6.395e+04</td>\n",
       "</tr>\n",
       "<tr>\n",
       "  <th>Df Model:</th>              <td>     2</td>      <th>                     </th>     <td> </td>    \n",
       "</tr>\n",
       "<tr>\n",
       "  <th>Covariance Type:</th>      <td>nonrobust</td>    <th>                     </th>     <td> </td>    \n",
       "</tr>\n",
       "</table>\n",
       "<table class=\"simpletable\">\n",
       "<tr>\n",
       "    <td></td>       <th>coef</th>     <th>std err</th>      <th>t</th>      <th>P>|t|</th>  <th>[0.025</th>    <th>0.975]</th>  \n",
       "</tr>\n",
       "<tr>\n",
       "  <th>const</th> <td> 1.064e+06</td> <td> 1.15e+05</td> <td>    9.278</td> <td> 0.000</td> <td> 8.39e+05</td> <td> 1.29e+06</td>\n",
       "</tr>\n",
       "<tr>\n",
       "  <th>x1</th>    <td> -221.4032</td> <td>  124.869</td> <td>   -1.773</td> <td> 0.076</td> <td> -466.290</td> <td>   23.484</td>\n",
       "</tr>\n",
       "<tr>\n",
       "  <th>x2</th>    <td> 4158.1224</td> <td>  162.888</td> <td>   25.528</td> <td> 0.000</td> <td> 3838.675</td> <td> 4477.570</td>\n",
       "</tr>\n",
       "</table>\n",
       "<table class=\"simpletable\">\n",
       "<tr>\n",
       "  <th>Omnibus:</th>       <td>2015.736</td> <th>  Durbin-Watson:     </th>  <td>   2.010</td> \n",
       "</tr>\n",
       "<tr>\n",
       "  <th>Prob(Omnibus):</th>  <td> 0.000</td>  <th>  Jarque-Bera (JB):  </th> <td>269049.970</td>\n",
       "</tr>\n",
       "<tr>\n",
       "  <th>Skew:</th>           <td> 4.506</td>  <th>  Prob(JB):          </th>  <td>    0.00</td> \n",
       "</tr>\n",
       "<tr>\n",
       "  <th>Kurtosis:</th>       <td>59.101</td>  <th>  Cond. No.          </th>  <td>2.27e+03</td> \n",
       "</tr>\n",
       "</table>"
      ],
      "text/plain": [
       "<class 'statsmodels.iolib.summary.Summary'>\n",
       "\"\"\"\n",
       "                            OLS Regression Results                            \n",
       "==============================================================================\n",
       "Dep. Variable:                      y   R-squared:                       0.247\n",
       "Model:                            OLS   Adj. R-squared:                  0.246\n",
       "Method:                 Least Squares   F-statistic:                     327.1\n",
       "Date:                Tue, 04 Dec 2018   Prob (F-statistic):          1.35e-123\n",
       "Time:                        22:30:17   Log-Likelihood:                -31965.\n",
       "No. Observations:                2000   AIC:                         6.394e+04\n",
       "Df Residuals:                    1997   BIC:                         6.395e+04\n",
       "Df Model:                           2                                         \n",
       "Covariance Type:            nonrobust                                         \n",
       "==============================================================================\n",
       "                 coef    std err          t      P>|t|      [0.025      0.975]\n",
       "------------------------------------------------------------------------------\n",
       "const       1.064e+06   1.15e+05      9.278      0.000    8.39e+05    1.29e+06\n",
       "x1          -221.4032    124.869     -1.773      0.076    -466.290      23.484\n",
       "x2          4158.1224    162.888     25.528      0.000    3838.675    4477.570\n",
       "==============================================================================\n",
       "Omnibus:                     2015.736   Durbin-Watson:                   2.010\n",
       "Prob(Omnibus):                  0.000   Jarque-Bera (JB):           269049.970\n",
       "Skew:                           4.506   Prob(JB):                         0.00\n",
       "Kurtosis:                      59.101   Cond. No.                     2.27e+03\n",
       "==============================================================================\n",
       "\n",
       "Warnings:\n",
       "[1] Standard Errors assume that the covariance matrix of the errors is correctly specified.\n",
       "[2] The condition number is large, 2.27e+03. This might indicate that there are\n",
       "strong multicollinearity or other numerical problems.\n",
       "\"\"\""
      ]
     },
     "execution_count": 121,
     "metadata": {},
     "output_type": "execute_result"
    }
   ],
   "source": [
    "import statsmodels.api as sm\n",
    "\n",
    "X_train = sm.add_constant(x_train.values)\n",
    "model = sm.OLS(y_train.values, X_train)\n",
    "result = model.fit()\n",
    "result.summary()"
   ]
  },
  {
   "cell_type": "markdown",
   "metadata": {},
   "source": [
    "## 2  Rigid regression"
   ]
  },
  {
   "cell_type": "code",
   "execution_count": 94,
   "metadata": {
    "ExecuteTime": {
     "end_time": "2018-12-05T06:18:27.675716Z",
     "start_time": "2018-12-05T06:18:27.584783Z"
    }
   },
   "outputs": [
    {
     "name": "stdout",
     "output_type": "stream",
     "text": [
      "coef:  [-221.40318    4158.12233929]\n",
      "intercept 1064097.0738071727\n",
      "True Count:  483\n",
      "False Count:  67\n",
      "Accuracy:  0.878181818182\n"
     ]
    },
    {
     "data": {
      "text/plain": [
       "0.8781818181818182"
      ]
     },
     "execution_count": 94,
     "metadata": {},
     "output_type": "execute_result"
    }
   ],
   "source": [
    "from sklearn.linear_model import Ridge\n",
    "\n",
    "clf = Ridge(alpha=1.0)\n",
    "clf.fit(x_train, y_train) \n",
    "\n",
    "print \"coef: \",clf.coef_\n",
    "print \"intercept\",  clf.intercept_ \n",
    "\n",
    "y_predict = clf.predict(x_test)\n",
    "\n",
    "printResult(y_predict,y_test)"
   ]
  },
  {
   "cell_type": "code",
   "execution_count": 103,
   "metadata": {
    "ExecuteTime": {
     "end_time": "2018-12-05T06:21:11.051319Z",
     "start_time": "2018-12-05T06:21:11.041910Z"
    }
   },
   "outputs": [
    {
     "name": "stdout",
     "output_type": "stream",
     "text": [
      "[1372279.28238953 1000213.76557295 1057005.37940349  935285.56480689\n",
      " 1649460.74015802]\n",
      "[1712075 1609555  562457  707524 1604402]\n"
     ]
    }
   ],
   "source": [
    "predicted = y_predict[30:35]\n",
    "actural = y_test[30:35]\n",
    "print predicted\n",
    "print actural.values"
   ]
  },
  {
   "cell_type": "code",
   "execution_count": 105,
   "metadata": {
    "ExecuteTime": {
     "end_time": "2018-12-05T06:21:27.506783Z",
     "start_time": "2018-12-05T06:21:26.814118Z"
    }
   },
   "outputs": [
    {
     "data": {
      "image/png": "[encoded data removed]",
      "text/plain": [
       "<matplotlib.figure.Figure at 0x1a1f075e90>"
      ]
     },
     "metadata": {},
     "output_type": "display_data"
    }
   ],
   "source": [
    "import matplotlib.pyplot as plt\n",
    "\n",
    "x =list(range(len( predicted)))\n",
    " \n",
    "total_width, n = 0.8, 2\n",
    "width = total_width / n\n",
    "\n",
    "plt.bar(x,  predicted, width=width, label='predicted',fc = 'y')\n",
    "for i in range(len(x)):\n",
    "    x[i] = x[i] + width\n",
    "plt.bar(x, actural, width=width, label='actural',fc = 'r')\n",
    "plt.legend()\n",
    "plt.xlabel(\"TED talk\")\n",
    "plt.ylabel(\"Number of Reviews\")\n",
    "plt.title ('Rigid Regression Model Prediction')\n",
    "plt.show()\n"
   ]
  },
  {
   "cell_type": "markdown",
   "metadata": {},
   "source": [
    "## 3 Lasso Regression"
   ]
  },
  {
   "cell_type": "code",
   "execution_count": 124,
   "metadata": {
    "ExecuteTime": {
     "end_time": "2018-12-05T06:32:15.803700Z",
     "start_time": "2018-12-05T06:32:15.776681Z"
    }
   },
   "outputs": [
    {
     "name": "stdout",
     "output_type": "stream",
     "text": [
      "coef:  [-221.40317507 4158.12235104]\n",
      "intercept 1064097.0674153266\n",
      "True Count:  483\n",
      "False Count:  67\n",
      "Accuracy:  0.878181818182\n"
     ]
    },
    {
     "data": {
      "text/plain": [
       "0.8781818181818182"
      ]
     },
     "execution_count": 124,
     "metadata": {},
     "output_type": "execute_result"
    }
   ],
   "source": [
    "from sklearn.linear_model import Lasso\n",
    "\n",
    "\n",
    "clf = Lasso()\n",
    "clf.fit(x_train, y_train) \n",
    "\n",
    "print \"coef: \",clf.coef_\n",
    "print \"intercept\",  clf.intercept_ \n",
    "\n",
    "y_predict = clf.predict(x_test)\n",
    "\n",
    "printResult(y_predict,y_test)"
   ]
  },
  {
   "cell_type": "markdown",
   "metadata": {},
   "source": [
    "## 4. poly regression"
   ]
  },
  {
   "cell_type": "code",
   "execution_count": 93,
   "metadata": {
    "ExecuteTime": {
     "end_time": "2018-12-05T06:11:30.992534Z",
     "start_time": "2018-12-05T06:11:30.983268Z"
    }
   },
   "outputs": [
    {
     "name": "stdout",
     "output_type": "stream",
     "text": [
      "[[1772  116]\n",
      " [ 791   65]\n",
      " [ 599   39]\n",
      " ...\n",
      " [ 404   95]\n",
      " [ 960   96]\n",
      " [1020  101]]\n",
      "[ 532759 1149641 1107309 ...  991694  713999 1750573]\n"
     ]
    }
   ],
   "source": [
    "print x_train.values\n",
    "print y_train.values"
   ]
  },
  {
   "cell_type": "code",
   "execution_count": 90,
   "metadata": {
    "ExecuteTime": {
     "end_time": "2018-12-05T06:10:54.986976Z",
     "start_time": "2018-12-05T06:10:54.896054Z"
    }
   },
   "outputs": [
    {
     "ename": "TypeError",
     "evalue": "expected 1D vector for x",
     "output_type": "error",
     "traceback": [
      "\u001b[0;31m-------------------------------------------------------------------\u001b[0m",
      "\u001b[0;31mTypeError\u001b[0m                         Traceback (most recent call last)",
      "\u001b[0;32m<ipython-input-90-329b8251b339>\u001b[0m in \u001b[0;36m<module>\u001b[0;34m()\u001b[0m\n\u001b[1;32m      4\u001b[0m \u001b[0;34m\u001b[0m\u001b[0m\n\u001b[1;32m      5\u001b[0m \u001b[0;32mfor\u001b[0m \u001b[0mdegree\u001b[0m \u001b[0;32min\u001b[0m \u001b[0mdegreeList\u001b[0m\u001b[0;34m:\u001b[0m\u001b[0;34m\u001b[0m\u001b[0m\n\u001b[0;32m----> 6\u001b[0;31m     \u001b[0mmodel\u001b[0m \u001b[0;34m=\u001b[0m \u001b[0mnp\u001b[0m\u001b[0;34m.\u001b[0m\u001b[0mpolyfit\u001b[0m\u001b[0;34m(\u001b[0m\u001b[0mx_train\u001b[0m\u001b[0;34m.\u001b[0m\u001b[0mvalues\u001b[0m\u001b[0;34m,\u001b[0m \u001b[0my_train\u001b[0m\u001b[0;34m,\u001b[0m \u001b[0mdegree\u001b[0m\u001b[0;34m)\u001b[0m\u001b[0;34m\u001b[0m\u001b[0m\n\u001b[0m\u001b[1;32m      7\u001b[0m     \u001b[0;32mprint\u001b[0m \u001b[0mmodel\u001b[0m\u001b[0;34m\u001b[0m\u001b[0m\n\u001b[1;32m      8\u001b[0m     \u001b[0my_predict\u001b[0m \u001b[0;34m=\u001b[0m \u001b[0mmodel\u001b[0m\u001b[0;34m(\u001b[0m\u001b[0mx_test\u001b[0m\u001b[0;34m)\u001b[0m\u001b[0;34m\u001b[0m\u001b[0m\n",
      "\u001b[0;32m/Users/xuzhaokai/anaconda2/lib/python2.7/site-packages/numpy/lib/polynomial.pyc\u001b[0m in \u001b[0;36mpolyfit\u001b[0;34m(x, y, deg, rcond, full, w, cov)\u001b[0m\n\u001b[1;32m    546\u001b[0m         \u001b[0;32mraise\u001b[0m \u001b[0mValueError\u001b[0m\u001b[0;34m(\u001b[0m\u001b[0;34m\"expected deg >= 0\"\u001b[0m\u001b[0;34m)\u001b[0m\u001b[0;34m\u001b[0m\u001b[0m\n\u001b[1;32m    547\u001b[0m     \u001b[0;32mif\u001b[0m \u001b[0mx\u001b[0m\u001b[0;34m.\u001b[0m\u001b[0mndim\u001b[0m \u001b[0;34m!=\u001b[0m \u001b[0;36m1\u001b[0m\u001b[0;34m:\u001b[0m\u001b[0;34m\u001b[0m\u001b[0m\n\u001b[0;32m--> 548\u001b[0;31m         \u001b[0;32mraise\u001b[0m \u001b[0mTypeError\u001b[0m\u001b[0;34m(\u001b[0m\u001b[0;34m\"expected 1D vector for x\"\u001b[0m\u001b[0;34m)\u001b[0m\u001b[0;34m\u001b[0m\u001b[0m\n\u001b[0m\u001b[1;32m    549\u001b[0m     \u001b[0;32mif\u001b[0m \u001b[0mx\u001b[0m\u001b[0;34m.\u001b[0m\u001b[0msize\u001b[0m \u001b[0;34m==\u001b[0m \u001b[0;36m0\u001b[0m\u001b[0;34m:\u001b[0m\u001b[0;34m\u001b[0m\u001b[0m\n\u001b[1;32m    550\u001b[0m         \u001b[0;32mraise\u001b[0m \u001b[0mTypeError\u001b[0m\u001b[0;34m(\u001b[0m\u001b[0;34m\"expected non-empty vector for x\"\u001b[0m\u001b[0;34m)\u001b[0m\u001b[0;34m\u001b[0m\u001b[0m\n",
      "\u001b[0;31mTypeError\u001b[0m: expected 1D vector for x"
     ]
    }
   ],
   "source": [
    "import numpy as np\n",
    "\n",
    "degreeList = range(3,6)\n",
    "\n",
    "for degree in degreeList: \n",
    "    model = np.polyfit(x_train.values, y_train, degree)\n",
    "    print model\n",
    "    y_predict = model(x_test)\n",
    "    printResult(y_predict,y_test)\n",
    "    \n",
    "    "
   ]
  },
  {
   "cell_type": "code",
   "execution_count": null,
   "metadata": {},
   "outputs": [],
   "source": []
  },
  {
   "cell_type": "code",
   "execution_count": null,
   "metadata": {},
   "outputs": [],
   "source": []
  },
  {
   "cell_type": "code",
   "execution_count": null,
   "metadata": {},
   "outputs": [],
   "source": []
  },
  {
   "cell_type": "code",
   "execution_count": 324,
   "metadata": {
    "ExecuteTime": {
     "end_time": "2018-12-05T03:25:06.976487Z",
     "start_time": "2018-12-05T03:24:44.611474Z"
    }
   },
   "outputs": [
    {
     "name": "stdout",
     "output_type": "stream",
     "text": [
      "\n",
      "C =  0.001\n",
      "trueCount:  707\n",
      "falseCount:  343\n",
      "accuracy:  0.673333333333\n",
      "\n",
      "C =  0.01\n",
      "trueCount:  791\n",
      "falseCount:  259\n",
      "accuracy:  0.753333333333\n",
      "\n",
      "C =  0.1\n",
      "trueCount:  800\n",
      "falseCount:  250\n",
      "accuracy:  0.761904761905\n",
      "\n",
      "C =  1\n",
      "trueCount:  789\n",
      "falseCount:  261\n",
      "accuracy:  0.751428571429\n",
      "\n",
      "C =  10\n",
      "trueCount:  777\n",
      "falseCount:  273\n",
      "accuracy:  0.74\n"
     ]
    }
   ],
   "source": [
    "from sklearn.datasets import load_iris\n",
    "from sklearn.linear_model import LogisticRegression\n",
    "X, y = load_iris(return_X_y=True)\n",
    "\n",
    "C_list = [.001, .01, .1, 1, 10]\n",
    "acc_list = []\n",
    "\n",
    "for c in C_list:\n",
    "    clf = LogisticRegression(C=c).fit(x_train, y_train)\n",
    "    y_predict = clf.predict(x_test)\n",
    "    print \"\\nC = \", c\n",
    "    acc = printResult(y_predict,y_test)\n",
    "    acc_list.append(acc)\n",
    "    "
   ]
  },
  {
   "cell_type": "code",
   "execution_count": 305,
   "metadata": {
    "ExecuteTime": {
     "end_time": "2018-12-05T03:11:45.894568Z",
     "start_time": "2018-12-05T03:11:45.136553Z"
    },
    "scrolled": true
   },
   "outputs": [
    {
     "data": {
      "text/plain": [
       "<matplotlib.text.Text at 0x1a1a09a3d0>"
      ]
     },
     "execution_count": 305,
     "metadata": {},
     "output_type": "execute_result"
    },
    {
     "data": {
      "image/png": "[encoded data removed]",
      "text/plain": [
       "<matplotlib.figure.Figure at 0x1a1a01e3d0>"
      ]
     },
     "metadata": {},
     "output_type": "display_data"
    }
   ],
   "source": [
    "\n",
    "plt.plot([-3,-2,-1,0,1],acc_list)\n",
    "plt.title (\"Tuning parameter C for Logistic Regression\")\n",
    "plt.xlabel(\"C value from 10^-3 to 10^1\")\n",
    "plt.ylabel(\"accuracy\")\n"
   ]
  },
  {
   "cell_type": "code",
   "execution_count": 323,
   "metadata": {
    "ExecuteTime": {
     "end_time": "2018-12-05T03:24:40.674239Z",
     "start_time": "2018-12-05T03:24:40.660274Z"
    }
   },
   "outputs": [],
   "source": []
  },
  {
   "cell_type": "code",
   "execution_count": 314,
   "metadata": {
    "ExecuteTime": {
     "end_time": "2018-12-05T03:17:16.334688Z",
     "start_time": "2018-12-05T03:17:11.502669Z"
    }
   },
   "outputs": [
    {
     "name": "stdout",
     "output_type": "stream",
     "text": [
      "\n",
      "C = 0.1\n",
      "trueCount:  466\n",
      "falseCount:  84\n",
      "accuracy:  0.847272727273\n"
     ]
    },
    {
     "data": {
      "text/plain": [
       "0.8472727272727273"
      ]
     },
     "execution_count": 314,
     "metadata": {},
     "output_type": "execute_result"
    }
   ],
   "source": [
    "testing = teds.sample(550)\n",
    "\n",
    "\n",
    "x_testing = testing[['duration','comments']]\n",
    "y_testing = testing['views']\n",
    "\n",
    "clf = LogisticRegression(C=.1).fit(x_train, y_train)\n",
    "y_predict = clf.predict(x_testing)\n",
    "print \"\\nC = 0.1\"\n",
    "printResult(y_predict,y_testing)"
   ]
  },
  {
   "cell_type": "code",
   "execution_count": null,
   "metadata": {},
   "outputs": [],
   "source": []
  }
 ],
 "metadata": {
  "kernelspec": {
   "display_name": "Python 2",
   "language": "python",
   "name": "python2"
  },
  "language_info": {
   "codemirror_mode": {
    "name": "ipython",
    "version": 2
   },
   "file_extension": ".py",
   "mimetype": "text/x-python",
   "name": "python",
   "nbconvert_exporter": "python",
   "pygments_lexer": "ipython2",
   "version": "2.7.15"
  },
  "latex_envs": {
   "LaTeX_envs_menu_present": true,
   "autoclose": false,
   "autocomplete": true,
   "bibliofile": "biblio.bib",
   "cite_by": "apalike",
   "current_citInitial": 1,
   "eqLabelWithNumbers": true,
   "eqNumInitial": 1,
   "hotkeys": {
    "equation": "Ctrl-E",
    "itemize": "Ctrl-I"
   },
   "labels_anchors": false,
   "latex_user_defs": false,
   "report_style_numbering": false,
   "user_envs_cfg": false
  },
  "varInspector": {
   "cols": {
    "lenName": 16,
    "lenType": 16,
    "lenVar": 40
   },
   "kernels_config": {
    "python": {
     "delete_cmd_postfix": "",
     "delete_cmd_prefix": "del ",
     "library": "var_list.py",
     "varRefreshCmd": "print(var_dic_list())"
    },
    "r": {
     "delete_cmd_postfix": ") ",
     "delete_cmd_prefix": "rm(",
     "library": "var_list.r",
     "varRefreshCmd": "cat(var_dic_list()) "
    }
   },
   "types_to_exclude": [
    "module",
    "function",
    "builtin_function_or_method",
    "instance",
    "_Feature"
   ],
   "window_display": false
  },
  "widgets": {
   "state": {},
   "version": "1.1.2"
  }
 },
 "nbformat": 4,
 "nbformat_minor": 2
}
